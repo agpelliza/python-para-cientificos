{
 "metadata": {
  "name": "",
  "signature": "sha256:f0d44779343122c8fe88a171cf1fb8d5ae5c9455ce38834f3a0eca788f98a690"
 },
 "nbformat": 3,
 "nbformat_minor": 0,
 "worksheets": [
  {
   "cells": [
    {
     "cell_type": "heading",
     "level": 1,
     "metadata": {},
     "source": [
      "Numpy"
     ]
    },
    {
     "cell_type": "markdown",
     "metadata": {},
     "source": [
      "Numpy es una paquete para realizar c\u00e1lculos sobre vectores y matrices.\n",
      "\n",
      "## Que provee?\n",
      "\n",
      "En esencia, numpy provee dos cosas:\n",
      "- **arrays multidimensionales** que nos permiten almacenar datos estructurados (ndarray)\n",
      "- **funciones** para trabajar sobre estos arreglos en forma eficiente (ufunc)\n",
      "\n",
      "Est\u00e1 implementado en C y Fortran, de modo que cuando los c\u00e1lculos son vectorizados (formulados con vectores y matrices), el rendimiento es muy bueno.\n",
      "\n",
      "Para trabajar con el paquete numpy debemos importarlo de la siguiente forma:"
     ]
    },
    {
     "cell_type": "code",
     "collapsed": false,
     "input": [
      "import numpy"
     ],
     "language": "python",
     "metadata": {},
     "outputs": [],
     "prompt_number": 1
    },
    {
     "cell_type": "markdown",
     "metadata": {},
     "source": [
      "Para acceder a las funciones del paquete"
     ]
    },
    {
     "cell_type": "code",
     "collapsed": false,
     "input": [
      "numpy.random.rand(10, 5)"
     ],
     "language": "python",
     "metadata": {},
     "outputs": [
      {
       "metadata": {},
       "output_type": "pyout",
       "prompt_number": 2,
       "text": [
        "array([[ 0.5424842 ,  0.13813701,  0.6994033 ,  0.21405845,  0.58901978],\n",
        "       [ 0.2805877 ,  0.57793562,  0.17096716,  0.91641758,  0.84479003],\n",
        "       [ 0.65315897,  0.1504322 ,  0.00731068,  0.69912492,  0.66813079],\n",
        "       [ 0.21170659,  0.25825005,  0.34104027,  0.70819363,  0.47065153],\n",
        "       [ 0.0788757 ,  0.74192603,  0.4052298 ,  0.34477964,  0.98791865],\n",
        "       [ 0.72538941,  0.47119788,  0.90701196,  0.61514621,  0.38005603],\n",
        "       [ 0.81066646,  0.75255216,  0.55839316,  0.47228244,  0.82248458],\n",
        "       [ 0.86346393,  0.77157786,  0.16696978,  0.10390833,  0.12372258],\n",
        "       [ 0.13606412,  0.06042132,  0.12315949,  0.76657293,  0.21536561],\n",
        "       [ 0.91427064,  0.75144119,  0.99099881,  0.70773668,  0.51109604]])"
       ]
      }
     ],
     "prompt_number": 2
    },
    {
     "cell_type": "markdown",
     "metadata": {},
     "source": [
      "La funcion `rand` est\u00e1 dentro del modulo random del paquete numpy\n",
      "\n",
      "Para simplificar el c\u00f3digo podemos usar"
     ]
    },
    {
     "cell_type": "code",
     "collapsed": false,
     "input": [
      "import numpy as np"
     ],
     "language": "python",
     "metadata": {},
     "outputs": [],
     "prompt_number": 3
    },
    {
     "cell_type": "code",
     "collapsed": false,
     "input": [
      "np.random?"
     ],
     "language": "python",
     "metadata": {},
     "outputs": [],
     "prompt_number": 4
    },
    {
     "cell_type": "markdown",
     "metadata": {},
     "source": [
      "Lo que hacemos es crear un *alias* al paquete NumPy de nombre `np`. Es simplemente una forma de abreviar el c\u00f3digo. Esta forma de separar las funciones en paquetes (que se llaman **espacios de nombres** o *namespaces*) conduce a una mayor legibilidad del c\u00f3digo y a la supresi\u00f3n de ambig\u00fcedades.\n",
      "\n",
      "Para buscar ayuda sobre ciertos temas podemos usar la funcion `lookfor`."
     ]
    },
    {
     "cell_type": "code",
     "collapsed": false,
     "input": [
      "np.lookfor(\"fourier\")"
     ],
     "language": "python",
     "metadata": {},
     "outputs": [
      {
       "output_type": "stream",
       "stream": "stdout",
       "text": [
        "Search results for 'fourier'\n",
        "----------------------------\n",
        "numpy.fft.fft\n",
        "    Compute the one-dimensional discrete Fourier Transform.\n",
        "numpy.fft.fft2\n",
        "    Compute the 2-dimensional discrete Fourier Transform\n",
        "numpy.fft.fftn\n",
        "    Compute the N-dimensional discrete Fourier Transform.\n",
        "numpy.fft.ifft\n",
        "    Compute the one-dimensional inverse discrete Fourier Transform.\n",
        "numpy.fft.rfft\n",
        "    Compute the one-dimensional discrete Fourier Transform for real input.\n",
        "numpy.fft.ifft2\n",
        "    Compute the 2-dimensional inverse discrete Fourier Transform.\n",
        "numpy.fft.ifftn\n",
        "    Compute the N-dimensional inverse discrete Fourier Transform.\n",
        "numpy.fft.rfftn\n",
        "    Compute the N-dimensional discrete Fourier Transform for real input.\n",
        "numpy.fft.fftfreq\n",
        "    Return the Discrete Fourier Transform sample frequencies.\n",
        "numpy.fft.rfftfreq\n",
        "    Return the Discrete Fourier Transform sample frequencies\n",
        "numpy.bartlett\n",
        "    Return the Bartlett window.\n",
        "numpy.convolve\n",
        "    Returns the discrete, linear convolution of two one-dimensional sequences.\n",
        "numpy.fft.irfft\n",
        "    Compute the inverse of the n-point DFT for real input.\n",
        "numpy.fft.rfft2\n",
        "    Compute the 2-dimensional FFT of a real array.\n",
        "numpy.fft.irfftn\n",
        "    Compute the inverse of the N-dimensional FFT of real input."
       ]
      }
     ],
     "prompt_number": 5
    },
    {
     "cell_type": "markdown",
     "metadata": {},
     "source": [
      "## Arrays\n",
      "Un array multidimensional de numpy es un conjunto de elementos estructurados de cierta forma.\n",
      "\n",
      "\n",
      "### Creaci\u00f3n de arrays\n",
      "Podemos crear arreglos de diferentes maneras:\n",
      "* Pasandole una secuencia a la funcion `array`\n",
      "* gener\u00e1ndolos a partir de funciones (`arange`, `zeros`, `ones`, `linspace`, `rand`)\n",
      "* carg\u00e1ndolos desde un archivo"
     ]
    },
    {
     "cell_type": "code",
     "collapsed": false,
     "input": [
      "np.array((1,2,3))"
     ],
     "language": "python",
     "metadata": {},
     "outputs": [
      {
       "metadata": {},
       "output_type": "pyout",
       "prompt_number": 6,
       "text": [
        "array([1, 2, 3])"
       ]
      }
     ],
     "prompt_number": 6
    },
    {
     "cell_type": "code",
     "collapsed": false,
     "input": [
      "a = np.array([[1,2,3], [4,5,6]])\n",
      "a"
     ],
     "language": "python",
     "metadata": {},
     "outputs": [
      {
       "metadata": {},
       "output_type": "pyout",
       "prompt_number": 7,
       "text": [
        "array([[1, 2, 3],\n",
        "       [4, 5, 6]])"
       ]
      }
     ],
     "prompt_number": 7
    },
    {
     "cell_type": "code",
     "collapsed": false,
     "input": [
      "type(a)"
     ],
     "language": "python",
     "metadata": {},
     "outputs": [
      {
       "metadata": {},
       "output_type": "pyout",
       "prompt_number": 8,
       "text": [
        "numpy.ndarray"
       ]
      }
     ],
     "prompt_number": 8
    },
    {
     "cell_type": "markdown",
     "metadata": {},
     "source": [
      "Podemos obtener la cantidad de elementos de un arreglo accediendo al atributo `size` (cuidado no usar el operador `len`)"
     ]
    },
    {
     "cell_type": "code",
     "collapsed": false,
     "input": [
      "a.size"
     ],
     "language": "python",
     "metadata": {},
     "outputs": [
      {
       "metadata": {},
       "output_type": "pyout",
       "prompt_number": 9,
       "text": [
        "6"
       ]
      }
     ],
     "prompt_number": 9
    },
    {
     "cell_type": "markdown",
     "metadata": {},
     "source": [
      "Podemos obtener las dimensiones del arreglo accedediendo al atributo `shape`"
     ]
    },
    {
     "cell_type": "code",
     "collapsed": false,
     "input": [
      "a.shape"
     ],
     "language": "python",
     "metadata": {},
     "outputs": [
      {
       "metadata": {},
       "output_type": "pyout",
       "prompt_number": 10,
       "text": [
        "(2, 3)"
       ]
      }
     ],
     "prompt_number": 10
    },
    {
     "cell_type": "markdown",
     "metadata": {},
     "source": [
      "Podemos cambiar la forma del arreglo usando la funci\u00f3n `reshape`"
     ]
    },
    {
     "cell_type": "code",
     "collapsed": false,
     "input": [
      "a.reshape(6)"
     ],
     "language": "python",
     "metadata": {},
     "outputs": [
      {
       "metadata": {},
       "output_type": "pyout",
       "prompt_number": 11,
       "text": [
        "array([1, 2, 3, 4, 5, 6])"
       ]
      }
     ],
     "prompt_number": 11
    },
    {
     "cell_type": "code",
     "collapsed": false,
     "input": [
      "a.reshape(6).shape"
     ],
     "language": "python",
     "metadata": {},
     "outputs": [
      {
       "metadata": {},
       "output_type": "pyout",
       "prompt_number": 12,
       "text": [
        "(6,)"
       ]
      }
     ],
     "prompt_number": 12
    },
    {
     "cell_type": "code",
     "collapsed": false,
     "input": [
      "b = a.reshape((1,6))\n",
      "print b.shape\n",
      "b"
     ],
     "language": "python",
     "metadata": {},
     "outputs": [
      {
       "output_type": "stream",
       "stream": "stdout",
       "text": [
        "(1, 6)\n"
       ]
      },
      {
       "metadata": {},
       "output_type": "pyout",
       "prompt_number": 13,
       "text": [
        "array([[1, 2, 3, 4, 5, 6]])"
       ]
      }
     ],
     "prompt_number": 13
    },
    {
     "cell_type": "markdown",
     "metadata": {},
     "source": [
      "### Tipos de datos\n",
      "Los arrays de NumPy son *homog\u00e9neos*, es decir, todos sus elementos son del mismo tipo. Si le pasamos a `np.array` una secuencia con objetos de tipos diferentes, promocionar\u00e1 todos al tipo con m\u00e1s informaci\u00f3n. Para acceder al tipo del array, podemos usar el atributo `dtype`."
     ]
    },
    {
     "cell_type": "code",
     "collapsed": false,
     "input": [
      "a = np.array([1, 2.0, 3])\n",
      "a"
     ],
     "language": "python",
     "metadata": {},
     "outputs": [
      {
       "metadata": {},
       "output_type": "pyout",
       "prompt_number": 14,
       "text": [
        "array([ 1.,  2.,  3.])"
       ]
      }
     ],
     "prompt_number": 14
    },
    {
     "cell_type": "code",
     "collapsed": false,
     "input": [
      "a.dtype"
     ],
     "language": "python",
     "metadata": {},
     "outputs": [
      {
       "metadata": {},
       "output_type": "pyout",
       "prompt_number": 15,
       "text": [
        "dtype('float64')"
       ]
      }
     ],
     "prompt_number": 15
    },
    {
     "cell_type": "markdown",
     "metadata": {},
     "source": [
      "La funci\u00f3n array nos permite especificar el tipo de datos que queremos"
     ]
    },
    {
     "cell_type": "code",
     "collapsed": false,
     "input": [
      "a = np.array([1, 2, 3, 4, 5], dtype=float)\n",
      "a"
     ],
     "language": "python",
     "metadata": {},
     "outputs": [
      {
       "metadata": {},
       "output_type": "pyout",
       "prompt_number": 16,
       "text": [
        "array([ 1.,  2.,  3.,  4.,  5.])"
       ]
      }
     ],
     "prompt_number": 16
    },
    {
     "cell_type": "markdown",
     "metadata": {},
     "source": [
      "O si queremos podemos obtener un array de otro tipo de datos usando la funci\u00f3n `astype`"
     ]
    },
    {
     "cell_type": "code",
     "collapsed": false,
     "input": [
      "a.astype(complex)"
     ],
     "language": "python",
     "metadata": {},
     "outputs": [
      {
       "metadata": {},
       "output_type": "pyout",
       "prompt_number": 17,
       "text": [
        "array([ 1.+0.j,  2.+0.j,  3.+0.j,  4.+0.j,  5.+0.j])"
       ]
      }
     ],
     "prompt_number": 17
    },
    {
     "cell_type": "code",
     "collapsed": false,
     "input": [
      "a.astype(int)"
     ],
     "language": "python",
     "metadata": {},
     "outputs": [
      {
       "metadata": {},
       "output_type": "pyout",
       "prompt_number": 18,
       "text": [
        "array([1, 2, 3, 4, 5])"
       ]
      }
     ],
     "prompt_number": 18
    },
    {
     "cell_type": "markdown",
     "metadata": {},
     "source": [
      "## Por que usar arrays de numpy?\n",
      "\n",
      "Hasta el momento el arreglo `numpy.ndarray` luce como una lista Python (anidada). Entonces, \u00bfpor qu\u00e9 simplemente no usar listas para hacer c\u00e1lculos en lugar de crear un tipo nuevo de arreglo? \n",
      "\n",
      "Existen varias razones:\n",
      "\n",
      "Las listas Python son muy generales. No permiten usar funciones matem\u00e1ticas tales como la multiplicaci\u00f3n de matricies, el producto escalar, etc. El implementar tales funciones para las listas Python no ser\u00eda muy eficiente debido a la asignaci\u00f3n din\u00e1mica de su tipo."
     ]
    },
    {
     "cell_type": "code",
     "collapsed": false,
     "input": [
      "[1,2,3] + [4,5,6]"
     ],
     "language": "python",
     "metadata": {},
     "outputs": [
      {
       "metadata": {},
       "output_type": "pyout",
       "prompt_number": 19,
       "text": [
        "[1, 2, 3, 4, 5, 6]"
       ]
      }
     ],
     "prompt_number": 19
    },
    {
     "cell_type": "code",
     "collapsed": false,
     "input": [
      "a = np.array([1,2,3])\n",
      "b = np.array([4,5,6])\n",
      "a+b"
     ],
     "language": "python",
     "metadata": {},
     "outputs": [
      {
       "metadata": {},
       "output_type": "pyout",
       "prompt_number": 20,
       "text": [
        "array([5, 7, 9])"
       ]
      }
     ],
     "prompt_number": 20
    },
    {
     "cell_type": "code",
     "collapsed": false,
     "input": [
      "min([[1,2, 3], [4,5,6]])"
     ],
     "language": "python",
     "metadata": {},
     "outputs": [
      {
       "metadata": {},
       "output_type": "pyout",
       "prompt_number": 21,
       "text": [
        "[1, 2, 3]"
       ]
      }
     ],
     "prompt_number": 21
    },
    {
     "cell_type": "code",
     "collapsed": false,
     "input": [
      "np.min(np.array([[1,2, 3], [4,5,6]]))"
     ],
     "language": "python",
     "metadata": {},
     "outputs": [
      {
       "metadata": {},
       "output_type": "pyout",
       "prompt_number": 22,
       "text": [
        "1"
       ]
      }
     ],
     "prompt_number": 22
    },
    {
     "cell_type": "markdown",
     "metadata": {},
     "source": [
      " Las listas de Python pueden contener cualquier tipo de objeto. \n",
      " \n",
      " Los arreglos Numpy tienen tipo **est\u00e1tico** y **homog\u00e9neo**. Esto los hace eficientes en el uso de memoria.\n",
      "Debido a su tipo est\u00e1tico, se pueden desarrollar implementaciones r\u00e1pidas de funciones matem\u00e1ticas tales como la multiplicaci\u00f3n y la suma de arreglos `numpy` usando lenguajes compilados (se usan C y Fortran).\n",
      "\n",
      "Ejemplo: crear dos mastrices b y c de 100x100 elementos y realizar sobre ellas la suma matricial definida como:\n",
      "\n",
      "$$ a_{ij} = b_{ij} + c_{ij} $$\n",
      "\n",
      "Guardar el resultado en la matriz a\n",
      "\n",
      "#### Usando listas de python"
     ]
    },
    {
     "cell_type": "code",
     "collapsed": false,
     "input": [
      "a = [[None] * 100]*100\n",
      "b = [range(100)] * 100\n",
      "c = [range(100)] * 100"
     ],
     "language": "python",
     "metadata": {},
     "outputs": [],
     "prompt_number": 23
    },
    {
     "cell_type": "code",
     "collapsed": false,
     "input": [
      "%%timeit\n",
      "for i in range(100):\n",
      "    for j in range(100):\n",
      "        a[i][j] = b[i][j] + c[i][j]"
     ],
     "language": "python",
     "metadata": {},
     "outputs": [
      {
       "output_type": "stream",
       "stream": "stdout",
       "text": [
        "100 loops, best of 3: 2.59 ms per loop\n"
       ]
      }
     ],
     "prompt_number": 24
    },
    {
     "cell_type": "markdown",
     "metadata": {},
     "source": [
      "#### Iterando sobre arrays de numpy"
     ]
    },
    {
     "cell_type": "code",
     "collapsed": false,
     "input": [
      "a = np.empty(10000, dtype=int).reshape((100,100))\n",
      "b = np.arange(10000, dtype=int).reshape((100,100))\n",
      "c = np.arange(10000, dtype=int).reshape((100,100))"
     ],
     "language": "python",
     "metadata": {},
     "outputs": [],
     "prompt_number": 25
    },
    {
     "cell_type": "code",
     "collapsed": false,
     "input": [
      "%%timeit\n",
      "for i in range(100):\n",
      "    for j in range(100):\n",
      "        a[i,j] = b[i,j] + c[i,j]"
     ],
     "language": "python",
     "metadata": {},
     "outputs": [
      {
       "output_type": "stream",
       "stream": "stdout",
       "text": [
        "10 loops, best of 3: 18.8 ms per loop\n"
       ]
      }
     ],
     "prompt_number": 26
    },
    {
     "cell_type": "markdown",
     "metadata": {},
     "source": [
      "#### Vectorizando la funci\u00f3n"
     ]
    },
    {
     "cell_type": "code",
     "collapsed": false,
     "input": [
      "def suma(a,b):\n",
      "    return a + b"
     ],
     "language": "python",
     "metadata": {},
     "outputs": [],
     "prompt_number": 27
    },
    {
     "cell_type": "code",
     "collapsed": false,
     "input": [
      "np.vectorize?"
     ],
     "language": "python",
     "metadata": {},
     "outputs": [],
     "prompt_number": 28
    },
    {
     "cell_type": "code",
     "collapsed": false,
     "input": [
      "suma_vectorizada = np.vectorize(suma)"
     ],
     "language": "python",
     "metadata": {},
     "outputs": [],
     "prompt_number": 29
    },
    {
     "cell_type": "code",
     "collapsed": false,
     "input": [
      "%%timeit\n",
      "a = suma_vectorizada(b,c)"
     ],
     "language": "python",
     "metadata": {},
     "outputs": [
      {
       "output_type": "stream",
       "stream": "stdout",
       "text": [
        "100 loops, best of 3: 2.86 ms per loop\n"
       ]
      }
     ],
     "prompt_number": 30
    },
    {
     "cell_type": "markdown",
     "metadata": {},
     "source": [
      "#### Usando el operador + defindo en numpy"
     ]
    },
    {
     "cell_type": "code",
     "collapsed": false,
     "input": [
      "%%timeit\n",
      "a = b + c"
     ],
     "language": "python",
     "metadata": {},
     "outputs": [
      {
       "output_type": "stream",
       "stream": "stdout",
       "text": [
        "10000 loops, best of 3: 18.7 \u00b5s per loop\n"
       ]
      }
     ],
     "prompt_number": 31
    },
    {
     "cell_type": "code",
     "collapsed": false,
     "input": [
      "a"
     ],
     "language": "python",
     "metadata": {},
     "outputs": [
      {
       "metadata": {},
       "output_type": "pyout",
       "prompt_number": 32,
       "text": [
        "array([[    0,     2,     4, ...,   194,   196,   198],\n",
        "       [  200,   202,   204, ...,   394,   396,   398],\n",
        "       [  400,   402,   404, ...,   594,   596,   598],\n",
        "       ..., \n",
        "       [19400, 19402, 19404, ..., 19594, 19596, 19598],\n",
        "       [19600, 19602, 19604, ..., 19794, 19796, 19798],\n",
        "       [19800, 19802, 19804, ..., 19994, 19996, 19998]])"
       ]
      }
     ],
     "prompt_number": 32
    },
    {
     "cell_type": "markdown",
     "metadata": {},
     "source": [
      "<div class=\"alert alert-warning\">\u00a11000 veces m\u00e1s r\u00e1pido! Se hace fundamental aprovechar al m\u00e1ximo la velocidad de las operaciones definidas en NumPy.</div>"
     ]
    },
    {
     "cell_type": "markdown",
     "metadata": {},
     "source": [
      "## Indexaci\u00f3n de arrays"
     ]
    },
    {
     "cell_type": "markdown",
     "metadata": {},
     "source": [
      "Una de las herramientas m\u00e1s importantes a la hora de trabajar con arrays es el indexado. Consiste en seleccionar elementos aislados o secciones de un array. Nosotros vamos a ver la indexaci\u00f3n b\u00e1sica, pero existen t\u00e9cnicas de indexaci\u00f3n avanzada que convierten los arrays en herramientas potent\u00edsimas."
     ]
    },
    {
     "cell_type": "code",
     "collapsed": false,
     "input": [
      "a = np.arange(10, dtype=float) # otra forma de generar un arreglo: a trav\u00e9s de funciones espec\u00edficas de numpy\n",
      "a"
     ],
     "language": "python",
     "metadata": {},
     "outputs": [
      {
       "metadata": {},
       "output_type": "pyout",
       "prompt_number": 33,
       "text": [
        "array([ 0.,  1.,  2.,  3.,  4.,  5.,  6.,  7.,  8.,  9.])"
       ]
      }
     ],
     "prompt_number": 33
    },
    {
     "cell_type": "code",
     "collapsed": false,
     "input": [
      "a[1]"
     ],
     "language": "python",
     "metadata": {},
     "outputs": [
      {
       "metadata": {},
       "output_type": "pyout",
       "prompt_number": 34,
       "text": [
        "1.0"
       ]
      }
     ],
     "prompt_number": 34
    },
    {
     "cell_type": "markdown",
     "metadata": {},
     "source": [
      "<div class=\"alert alert-error\">Cuidado!!!!! la indexaci\u00f3n comienza en 0 (no como en Matlab que empieza en 1)</div>"
     ]
    },
    {
     "cell_type": "code",
     "collapsed": false,
     "input": [
      "a[0], a[-1]"
     ],
     "language": "python",
     "metadata": {},
     "outputs": [
      {
       "metadata": {},
       "output_type": "pyout",
       "prompt_number": 35,
       "text": [
        "(0.0, 9.0)"
       ]
      }
     ],
     "prompt_number": 35
    },
    {
     "cell_type": "code",
     "collapsed": false,
     "input": [
      "a[[0,2,4,6,8]]"
     ],
     "language": "python",
     "metadata": {},
     "outputs": [
      {
       "metadata": {},
       "output_type": "pyout",
       "prompt_number": 36,
       "text": [
        "array([ 0.,  2.,  4.,  6.,  8.])"
       ]
      }
     ],
     "prompt_number": 36
    },
    {
     "cell_type": "code",
     "collapsed": false,
     "input": [
      "a[0:9:2]"
     ],
     "language": "python",
     "metadata": {},
     "outputs": [
      {
       "metadata": {},
       "output_type": "pyout",
       "prompt_number": 37,
       "text": [
        "array([ 0.,  2.,  4.,  6.,  8.])"
       ]
      }
     ],
     "prompt_number": 37
    },
    {
     "cell_type": "code",
     "collapsed": false,
     "input": [
      "a[::2]"
     ],
     "language": "python",
     "metadata": {},
     "outputs": [
      {
       "metadata": {},
       "output_type": "pyout",
       "prompt_number": 38,
       "text": [
        "array([ 0.,  2.,  4.,  6.,  8.])"
       ]
      }
     ],
     "prompt_number": 38
    },
    {
     "cell_type": "code",
     "collapsed": false,
     "input": [
      "a = np.array([\n",
      "    [0,1,2,3,4,5],\n",
      "    [10,11,12,13,14,15],\n",
      "    [20,21,22,23,24,25],\n",
      "    [30,31,32,33,34,35],\n",
      "    [40,41,42,43,44,45],\n",
      "    [50,51,52,53,54,55]\n",
      "])\n",
      "a"
     ],
     "language": "python",
     "metadata": {},
     "outputs": [
      {
       "metadata": {},
       "output_type": "pyout",
       "prompt_number": 39,
       "text": [
        "array([[ 0,  1,  2,  3,  4,  5],\n",
        "       [10, 11, 12, 13, 14, 15],\n",
        "       [20, 21, 22, 23, 24, 25],\n",
        "       [30, 31, 32, 33, 34, 35],\n",
        "       [40, 41, 42, 43, 44, 45],\n",
        "       [50, 51, 52, 53, 54, 55]])"
       ]
      }
     ],
     "prompt_number": 39
    },
    {
     "cell_type": "code",
     "collapsed": false,
     "input": [
      "a[0,3:5]"
     ],
     "language": "python",
     "metadata": {},
     "outputs": [
      {
       "metadata": {},
       "output_type": "pyout",
       "prompt_number": 40,
       "text": [
        "array([3, 4])"
       ]
      }
     ],
     "prompt_number": 40
    },
    {
     "cell_type": "code",
     "collapsed": false,
     "input": [
      "a[4:, 4:]"
     ],
     "language": "python",
     "metadata": {},
     "outputs": [
      {
       "metadata": {},
       "output_type": "pyout",
       "prompt_number": 41,
       "text": [
        "array([[44, 45],\n",
        "       [54, 55]])"
       ]
      }
     ],
     "prompt_number": 41
    },
    {
     "cell_type": "code",
     "collapsed": false,
     "input": [
      "a[:,2]"
     ],
     "language": "python",
     "metadata": {},
     "outputs": [
      {
       "metadata": {},
       "output_type": "pyout",
       "prompt_number": 42,
       "text": [
        "array([ 2, 12, 22, 32, 42, 52])"
       ]
      }
     ],
     "prompt_number": 42
    },
    {
     "cell_type": "code",
     "collapsed": false,
     "input": [
      "a[2::2, ::2]"
     ],
     "language": "python",
     "metadata": {},
     "outputs": [
      {
       "metadata": {},
       "output_type": "pyout",
       "prompt_number": 43,
       "text": [
        "array([[20, 22, 24],\n",
        "       [40, 42, 44]])"
       ]
      }
     ],
     "prompt_number": 43
    },
    {
     "cell_type": "markdown",
     "metadata": {},
     "source": [
      "<center>\n",
      "<!-- <img src=\"files/images/numpy_indexing.png\" width=\"700\"> -->\n",
      "<img src=\"https://raw.github.com/damianavila/Python-Cientifico-HCC/master/images/numpy_indexing.png\" width=\"700\">   \n",
      "</center>"
     ]
    },
    {
     "cell_type": "markdown",
     "metadata": {},
     "source": [
      "## Operaciones Aritm\u00e9ticas"
     ]
    },
    {
     "cell_type": "markdown",
     "metadata": {},
     "source": [
      "### Operaciones con escalares"
     ]
    },
    {
     "cell_type": "code",
     "collapsed": false,
     "input": [
      "a = np.arange(5)\n",
      "a"
     ],
     "language": "python",
     "metadata": {},
     "outputs": [
      {
       "metadata": {},
       "output_type": "pyout",
       "prompt_number": 44,
       "text": [
        "array([0, 1, 2, 3, 4])"
       ]
      }
     ],
     "prompt_number": 44
    },
    {
     "cell_type": "code",
     "collapsed": false,
     "input": [
      "print a + 1\n",
      "print a - 1\n",
      "print a * 10\n",
      "print a / 5\n",
      "print a ** 2"
     ],
     "language": "python",
     "metadata": {},
     "outputs": [
      {
       "output_type": "stream",
       "stream": "stdout",
       "text": [
        "[1 2 3 4 5]\n",
        "[-1  0  1  2  3]\n",
        "[ 0 10 20 30 40]\n",
        "[0 0 0 0 0]\n",
        "[ 0  1  4  9 16]\n"
       ]
      }
     ],
     "prompt_number": 45
    },
    {
     "cell_type": "markdown",
     "metadata": {},
     "source": [
      "### Operaciones elemento a elemento entre arreglos"
     ]
    },
    {
     "cell_type": "code",
     "collapsed": false,
     "input": [
      "a = np.arange(3)\n",
      "a"
     ],
     "language": "python",
     "metadata": {},
     "outputs": [
      {
       "metadata": {},
       "output_type": "pyout",
       "prompt_number": 46,
       "text": [
        "array([0, 1, 2])"
       ]
      }
     ],
     "prompt_number": 46
    },
    {
     "cell_type": "code",
     "collapsed": false,
     "input": [
      "b = np.ones(3, dtype=int) * 2\n",
      "b"
     ],
     "language": "python",
     "metadata": {},
     "outputs": [
      {
       "metadata": {},
       "output_type": "pyout",
       "prompt_number": 47,
       "text": [
        "array([2, 2, 2])"
       ]
      }
     ],
     "prompt_number": 47
    },
    {
     "cell_type": "code",
     "collapsed": false,
     "input": [
      "print a + b\n",
      "print a * b\n",
      "print a / b\n",
      "print a ** b"
     ],
     "language": "python",
     "metadata": {},
     "outputs": [
      {
       "output_type": "stream",
       "stream": "stdout",
       "text": [
        "[2 3 4]\n",
        "[0 2 4]\n",
        "[0 0 1]\n",
        "[0 1 4]\n"
       ]
      }
     ],
     "prompt_number": 48
    },
    {
     "cell_type": "markdown",
     "metadata": {},
     "source": [
      "### Broadcasting"
     ]
    },
    {
     "cell_type": "code",
     "collapsed": false,
     "input": [
      "c = (np.arange(4) * 10).reshape((4,1))\n",
      "c"
     ],
     "language": "python",
     "metadata": {},
     "outputs": [
      {
       "metadata": {},
       "output_type": "pyout",
       "prompt_number": 49,
       "text": [
        "array([[ 0],\n",
        "       [10],\n",
        "       [20],\n",
        "       [30]])"
       ]
      }
     ],
     "prompt_number": 49
    },
    {
     "cell_type": "code",
     "collapsed": false,
     "input": [
      "d = np.arange(3)\n",
      "d"
     ],
     "language": "python",
     "metadata": {},
     "outputs": [
      {
       "metadata": {},
       "output_type": "pyout",
       "prompt_number": 50,
       "text": [
        "array([0, 1, 2])"
       ]
      }
     ],
     "prompt_number": 50
    },
    {
     "cell_type": "code",
     "collapsed": false,
     "input": [
      "c + d"
     ],
     "language": "python",
     "metadata": {},
     "outputs": [
      {
       "metadata": {},
       "output_type": "pyout",
       "prompt_number": 51,
       "text": [
        "array([[ 0,  1,  2],\n",
        "       [10, 11, 12],\n",
        "       [20, 21, 22],\n",
        "       [30, 31, 32]])"
       ]
      }
     ],
     "prompt_number": 51
    },
    {
     "cell_type": "markdown",
     "metadata": {},
     "source": [
      "<center>\n",
      "<!-- <img src=\"files/images/numpy_broadcasting.png\" width=\"900\"> -->\n",
      "<img src=\"https://raw.github.com/damianavila/Python-Cientifico-HCC/master/images/numpy_broadcasting.png\" width=\"900\"> \n",
      "</center>"
     ]
    },
    {
     "cell_type": "markdown",
     "metadata": {},
     "source": [
      "### Multplicacion matricial"
     ]
    },
    {
     "cell_type": "code",
     "collapsed": false,
     "input": [
      "a = np.array([1,2,3,4]).reshape((2,2))\n",
      "a"
     ],
     "language": "python",
     "metadata": {},
     "outputs": [
      {
       "metadata": {},
       "output_type": "pyout",
       "prompt_number": 52,
       "text": [
        "array([[1, 2],\n",
        "       [3, 4]])"
       ]
      }
     ],
     "prompt_number": 52
    },
    {
     "cell_type": "code",
     "collapsed": false,
     "input": [
      "b = np.ones(4, dtype=int).reshape((2,2))\n",
      "b"
     ],
     "language": "python",
     "metadata": {},
     "outputs": [
      {
       "metadata": {},
       "output_type": "pyout",
       "prompt_number": 53,
       "text": [
        "array([[1, 1],\n",
        "       [1, 1]])"
       ]
      }
     ],
     "prompt_number": 53
    },
    {
     "cell_type": "code",
     "collapsed": false,
     "input": [
      "a * b"
     ],
     "language": "python",
     "metadata": {},
     "outputs": [
      {
       "metadata": {},
       "output_type": "pyout",
       "prompt_number": 54,
       "text": [
        "array([[1, 2],\n",
        "       [3, 4]])"
       ]
      }
     ],
     "prompt_number": 54
    },
    {
     "cell_type": "code",
     "collapsed": false,
     "input": [
      "a.dot(b)"
     ],
     "language": "python",
     "metadata": {},
     "outputs": [
      {
       "metadata": {},
       "output_type": "pyout",
       "prompt_number": 55,
       "text": [
        "array([[3, 3],\n",
        "       [7, 7]])"
       ]
      }
     ],
     "prompt_number": 55
    },
    {
     "cell_type": "code",
     "collapsed": false,
     "input": [
      "b.dot(a)"
     ],
     "language": "python",
     "metadata": {},
     "outputs": [
      {
       "metadata": {},
       "output_type": "pyout",
       "prompt_number": 56,
       "text": [
        "array([[4, 6],\n",
        "       [4, 6]])"
       ]
      }
     ],
     "prompt_number": 56
    },
    {
     "cell_type": "markdown",
     "metadata": {},
     "source": [
      "### Funciones de comparaci\u00f3n\n",
      "\n",
      "Las comparaciones devuelven un array de booleanos:"
     ]
    },
    {
     "cell_type": "code",
     "collapsed": false,
     "input": [
      "a = np.arange(6)\n",
      "b = np.ones(6).astype(int)\n",
      "a, b"
     ],
     "language": "python",
     "metadata": {},
     "outputs": [
      {
       "metadata": {},
       "output_type": "pyout",
       "prompt_number": 57,
       "text": [
        "(array([0, 1, 2, 3, 4, 5]), array([1, 1, 1, 1, 1, 1]))"
       ]
      }
     ],
     "prompt_number": 57
    },
    {
     "cell_type": "code",
     "collapsed": false,
     "input": [
      "a < b"
     ],
     "language": "python",
     "metadata": {},
     "outputs": [
      {
       "metadata": {},
       "output_type": "pyout",
       "prompt_number": 58,
       "text": [
        "array([ True, False, False, False, False, False], dtype=bool)"
       ]
      }
     ],
     "prompt_number": 58
    },
    {
     "cell_type": "code",
     "collapsed": false,
     "input": [
      "np.any(a < b)"
     ],
     "language": "python",
     "metadata": {},
     "outputs": [
      {
       "metadata": {},
       "output_type": "pyout",
       "prompt_number": 59,
       "text": [
        "True"
       ]
      }
     ],
     "prompt_number": 59
    },
    {
     "cell_type": "code",
     "collapsed": false,
     "input": [
      "np.all(a < b)"
     ],
     "language": "python",
     "metadata": {},
     "outputs": [
      {
       "metadata": {},
       "output_type": "pyout",
       "prompt_number": 60,
       "text": [
        "False"
       ]
      }
     ],
     "prompt_number": 60
    },
    {
     "cell_type": "markdown",
     "metadata": {},
     "source": [
      "<div class=\"alert alert-error\">**\u00a1Importante!** Ni en Python ni en ning\u00fan otro lenguaje debemos hacer comparaciones exactas entre n\u00fameros de punto flotante. </div>"
     ]
    },
    {
     "cell_type": "code",
     "collapsed": false,
     "input": [
      "0.1 +0.2 + 0.3"
     ],
     "language": "python",
     "metadata": {},
     "outputs": [
      {
       "metadata": {},
       "output_type": "pyout",
       "prompt_number": 61,
       "text": [
        "0.6000000000000001"
       ]
      }
     ],
     "prompt_number": 61
    },
    {
     "cell_type": "code",
     "collapsed": false,
     "input": [
      "0.3 + 0.2 + 0.1"
     ],
     "language": "python",
     "metadata": {},
     "outputs": [
      {
       "metadata": {},
       "output_type": "pyout",
       "prompt_number": 62,
       "text": [
        "0.6"
       ]
      }
     ],
     "prompt_number": 62
    },
    {
     "cell_type": "code",
     "collapsed": false,
     "input": [
      "np.array([0.1 +0.2 + 0.3]) == np.array([0.3 + 0.2 + 0.1]) "
     ],
     "language": "python",
     "metadata": {},
     "outputs": [
      {
       "metadata": {},
       "output_type": "pyout",
       "prompt_number": 63,
       "text": [
        "array([False], dtype=bool)"
       ]
      }
     ],
     "prompt_number": 63
    },
    {
     "cell_type": "code",
     "collapsed": false,
     "input": [
      "np.isclose(np.array([0.1 +0.2 + 0.3]), np.array([0.3 + 0.2 + 0.1]))"
     ],
     "language": "python",
     "metadata": {},
     "outputs": [
      {
       "metadata": {},
       "output_type": "pyout",
       "prompt_number": 64,
       "text": [
        "array([ True], dtype=bool)"
       ]
      }
     ],
     "prompt_number": 64
    },
    {
     "cell_type": "code",
     "collapsed": false,
     "input": [
      "np.allclose(np.array([0.1 +0.2 + 0.3]), np.array([0.3 + 0.2 + 0.1]), atol=1e-10)"
     ],
     "language": "python",
     "metadata": {},
     "outputs": [
      {
       "metadata": {},
       "output_type": "pyout",
       "prompt_number": 65,
       "text": [
        "True"
       ]
      }
     ],
     "prompt_number": 65
    },
    {
     "cell_type": "markdown",
     "metadata": {},
     "source": [
      "### Ejercicio\n",
      "\n",
      "Crea un \u00abtablero de ajedrez\u00bb, con unos en las casillas negras y ceros en las blancas."
     ]
    },
    {
     "cell_type": "code",
     "collapsed": false,
     "input": [
      "tablero = np.zeros((8, 8))\n",
      "tablero"
     ],
     "language": "python",
     "metadata": {},
     "outputs": [
      {
       "metadata": {},
       "output_type": "pyout",
       "prompt_number": 66,
       "text": [
        "array([[ 0.,  0.,  0.,  0.,  0.,  0.,  0.,  0.],\n",
        "       [ 0.,  0.,  0.,  0.,  0.,  0.,  0.,  0.],\n",
        "       [ 0.,  0.,  0.,  0.,  0.,  0.,  0.,  0.],\n",
        "       [ 0.,  0.,  0.,  0.,  0.,  0.,  0.,  0.],\n",
        "       [ 0.,  0.,  0.,  0.,  0.,  0.,  0.,  0.],\n",
        "       [ 0.,  0.,  0.,  0.,  0.,  0.,  0.,  0.],\n",
        "       [ 0.,  0.,  0.,  0.,  0.,  0.,  0.,  0.],\n",
        "       [ 0.,  0.,  0.,  0.,  0.,  0.,  0.,  0.]])"
       ]
      }
     ],
     "prompt_number": 66
    },
    {
     "cell_type": "code",
     "collapsed": false,
     "input": [
      "tablero[1::2, ::2] = 1\n",
      "tablero[::2, 1::2] = 1\n",
      "tablero"
     ],
     "language": "python",
     "metadata": {},
     "outputs": [
      {
       "metadata": {},
       "output_type": "pyout",
       "prompt_number": 67,
       "text": [
        "array([[ 0.,  1.,  0.,  1.,  0.,  1.,  0.,  1.],\n",
        "       [ 1.,  0.,  1.,  0.,  1.,  0.,  1.,  0.],\n",
        "       [ 0.,  1.,  0.,  1.,  0.,  1.,  0.,  1.],\n",
        "       [ 1.,  0.,  1.,  0.,  1.,  0.,  1.,  0.],\n",
        "       [ 0.,  1.,  0.,  1.,  0.,  1.,  0.,  1.],\n",
        "       [ 1.,  0.,  1.,  0.,  1.,  0.,  1.,  0.],\n",
        "       [ 0.,  1.,  0.,  1.,  0.,  1.,  0.,  1.],\n",
        "       [ 1.,  0.,  1.,  0.,  1.,  0.,  1.,  0.]])"
       ]
      }
     ],
     "prompt_number": 67
    },
    {
     "cell_type": "markdown",
     "metadata": {},
     "source": [
      "## Links \u00fatiles"
     ]
    },
    {
     "cell_type": "markdown",
     "metadata": {},
     "source": [
      "- Webpage numpy: http://www.numpy.org/\n",
      "\n",
      "- Referencia de Numpy: http://docs.scipy.org/doc/numpy/\n",
      "- Numpy for matlab users: http://wiki.scipy.org/NumPy_for_Matlab_Users"
     ]
    }
   ],
   "metadata": {}
  }
 ]
}