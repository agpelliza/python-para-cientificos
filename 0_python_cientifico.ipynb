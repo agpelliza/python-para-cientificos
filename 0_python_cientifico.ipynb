{
 "metadata": {
  "name": "",
  "signature": "sha256:5a77427d44003b012db4c4336ccb055e1f0ab72d78c8e15fffb1ed0e42d8aff0"
 },
 "nbformat": 3,
 "nbformat_minor": 0,
 "worksheets": [
  {
   "cells": [
    {
     "cell_type": "heading",
     "level": 1,
     "metadata": {
      "slideshow": {
       "slide_type": "skip"
      }
     },
     "source": [
      "Introducci\u00f3n a Python Cient\u00edfico\n",
      "<center>\n",
      "<!-- <img src=\"files/images/einstein.png\"> -->\n",
      "<img src=\"http://www.nullinfinity.net/einstein.png\">   \n",
      "</center>"
     ]
    },
    {
     "cell_type": "markdown",
     "metadata": {},
     "source": [
      "## Agradecimientos\n",
      "Estos notebooks fueron creados a partir de:\n",
      "- Curso online de Python para Cient\u00edficos (Universidad de Alicante): http://cacheme.org/curso-online-python-cientifico-ingenieros/\n",
      "- Introducci\u00f3n a la Programaci\u00f3n con Python: [http://github.com/gfrubi/clases-python-cientifico](http://github.com/gfrubi/clases-python-cientifico).\n",
      "- Curso de Python Cient\u00edfico (Dami\u00e1n Avila): https://github.com/damianavila/Python-Cientifico-HCC\n",
      "\n",
      "A todos ellos gracias por compartir su conocimiento.\n",
      "\n",
      "Pueden ver una versi\u00f3n read-only estos notebooks en:\n",
      "http://nbviewer.ipython.org/github/hexacta/python-para-cientificos/tree/master/\n",
      "\n",
      "Pueden descargarlos desde:\n",
      "https://github.com/hexacta/python-para-cientificos"
     ]
    },
    {
     "cell_type": "heading",
     "level": 2,
     "metadata": {
      "slideshow": {
       "slide_type": "skip"
      }
     },
     "source": [
      "Computaci\u00f3n Cient\u00edfica"
     ]
    },
    {
     "cell_type": "markdown",
     "metadata": {
      "slideshow": {
       "slide_type": "slide"
      }
     },
     "source": [
      "El cient\u00edfico necesita:\n",
      "1. Obtener datos\n",
      "* Manipularlos y procesarlos\n",
      "* Visualizarlos\n",
      "* Entenderlos\n",
      "* \"Documentar los resultados\""
     ]
    },
    {
     "cell_type": "heading",
     "level": 2,
     "metadata": {},
     "source": [
      "De Matlab a Python"
     ]
    },
    {
     "cell_type": "markdown",
     "metadata": {},
     "source": [
      "<center>\n",
      "<!-- offline version <img src=\"files/images/s0q8cUIVD77GRFCim-EBi3w.png\"> -->\n",
      "<img src=\"https://docs.google.com/drawings/d/1IditELHVqBp-2WguBkhSdVR3prjXvVGnLPmqDtBeKuM/pub?w=560\">   \n",
      "</center>"
     ]
    },
    {
     "cell_type": "heading",
     "level": 2,
     "metadata": {},
     "source": [
      "Por qu\u00e9 Python?"
     ]
    },
    {
     "cell_type": "markdown",
     "metadata": {},
     "source": [
      "- Libre y gratis\n",
      "- Portable\n",
      "- Lenguaje:\n",
      "    - De prop\u00f3sito general\n",
      "    - F\u00e1cil de aprender, alto nivel\n",
      "    - Multiparadigma\n",
      "    - Interactivo\n",
      "- Biblioteca para \u00e1reas espec\u00edficas\n",
      "- Comunidad \n",
      "    - PyAr: http://python.org.ar\n",
      "    - Sci-PyAr: sci-pyar@googlegroups.com\n",
      "\n",
      "<center>\n",
      "<img src=\"files/images/optimizing.png\">  \n",
      "</center>\n"
     ]
    },
    {
     "cell_type": "heading",
     "level": 2,
     "metadata": {},
     "source": [
      "El Zen de Python"
     ]
    },
    {
     "cell_type": "code",
     "collapsed": false,
     "input": [
      "import this"
     ],
     "language": "python",
     "metadata": {},
     "outputs": [
      {
       "output_type": "stream",
       "stream": "stdout",
       "text": [
        "The Zen of Python, by Tim Peters\n",
        "\n",
        "Beautiful is better than ugly.\n",
        "Explicit is better than implicit.\n",
        "Simple is better than complex.\n",
        "Complex is better than complicated.\n",
        "Flat is better than nested.\n",
        "Sparse is better than dense.\n",
        "Readability counts.\n",
        "Special cases aren't special enough to break the rules.\n",
        "Although practicality beats purity.\n",
        "Errors should never pass silently.\n",
        "Unless explicitly silenced.\n",
        "In the face of ambiguity, refuse the temptation to guess.\n",
        "There should be one-- and preferably only one --obvious way to do it.\n",
        "Although that way may not be obvious at first unless you're Dutch.\n",
        "Now is better than never.\n",
        "Although never is often better than *right* now.\n",
        "If the implementation is hard to explain, it's a bad idea.\n",
        "If the implementation is easy to explain, it may be a good idea.\n",
        "Namespaces are one honking great idea -- let's do more of those!\n"
       ]
      }
     ],
     "prompt_number": 1
    },
    {
     "cell_type": "markdown",
     "metadata": {},
     "source": [
      "Entornos Python\n",
      "-------------------\n",
      "\n",
      "Python no es s\u00f3lo un lenguaje de programaci\u00f3n, sino que a menudo se refiere a la implementaci\u00f3n est\u00e1ndar del int\u00e9rprete (t\u00e9cnicamente llamado [CPython](http://es.wikipedia.org/wiki/CPython)) que realmente corre el c\u00f3digo python.\n",
      "\n",
      "Existen tambi\u00e9n muchos entornos distintos a trav\u00e9s de los cuales se puede usar el int\u00e9rprete python. Cada entorno tiene distintas ventajas y es adecuado para diferentes rutinas de trabajo. Una fortaleza de Python es que es vers\u00e1til y puede ser usado de formas complementarias, pero esto puede ser confuso para principiantes, por lo que comenzaremos con un breve vistazo de los entornos Python \u00fatiles en computaci\u00f3n cient\u00edfica."
     ]
    },
    {
     "cell_type": "markdown",
     "metadata": {},
     "source": [
      "### Int\u00e9rprete Python\n",
      "\n",
      "La forma est\u00e1ndar de usar el lenguaje de programaci\u00f3n Python es usar el int\u00e9rprete Python para ejecutar c\u00f3digo python. El int\u00e9rprete python es un programa que lee y ejecuta el c\u00f3digo python en archivos, que son pasados como argumentos. En la consola de comandos, el comando ``python`` se usa para invocar al int\u00e9rprete python.\n",
      "\n",
      "Por ejemplo, para ejecutar un archivo ``mi-programa.py``, que contiene c\u00f3digo python, desde la consola de comandos, use:\n",
      "\n",
      "    $ python mi-programa.py\n",
      "\n",
      "Podemos tambi\u00e9n iniciar el int\u00e9rprete simplemente escribiendo ``python`` en la consola, y escribiendo interactivamente c\u00f3digo en el int\u00e9rprete. \n",
      "\n",
      "<!-- <img src=\"files/images/python-screenshot.jpg\" width=\"600\"> -->\n",
      "<img src=\"https://raw.github.com/gfrubi/clases-python-cientifico/master/images/python-screenshot.png\" width=\"600\">\n",
      "\n",
      "\n",
      "Esta es la forma en que a menudo deseamos trabajar desarrollando aplicaciones cient\u00edficas, o cuando se realizan peque\u00f1os c\u00e1lculos. Sin embargo, el int\u00e9rprete python est\u00e1ndar no es muy conveniente para esto tipo de trabajo, debido a m\u00faltiples limitaciones."
     ]
    },
    {
     "cell_type": "markdown",
     "metadata": {},
     "source": [
      "### IPython\n",
      "\n",
      "[IPython](http://ipython.org/) es una shell (int\u00e9rprete de comandos) interactiva que resuelve muchas de las limitaciones del int\u00e9rprete de python est\u00e1ndar, y es una poderosa herramienta para uso cient\u00edfico de Python. IPython suministra una shell interactiva mucho m\u00e1s amigable al usuario que el int\u00e9rprete Python.\n",
      "\n",
      "Una instancia de IPython corriendo en una consola luce as\u00ed:\n",
      "\n",
      "<!-- <img src=\"files/images/ipython-screenshot.png\" width=\"600\"> -->\n",
      "<img src=\"https://raw.github.com/gfrubi/clases-python-cientifico/master/images/ipython-screenshot.png\" width=\"600\">\n",
      "\n",
      "Algunas de las caracter\u00edsticas m\u00e1s \u00fatiles de IPython son:\n",
      "\n",
      "* Historia de comandos, que pueden ser navegadas con las teclas de flechas hacia arriba y abajo.\n",
      "* Auto-completado de tabs.\n",
      "* Edici\u00f3n de c\u00f3digo en l\u00ednea.\n",
      "* Instrospecci\u00f3n de objetos y extracci\u00f3n autom\u00e1tica de cadenas de documentaci\u00f3n a partir de objetos python como clases y funciones.\n",
      "* Buena interacci\u00f3n con la l\u00ednea de comandos del sistema operativo.\n",
      "* Soporte de m\u00faltiples procesos paralelos, que pueden ejecutarse en clusters o en servicios en la nube como Amazon EE2.\n",
      "\n",
      "#### Fernando Perez\n",
      "* Creador de IPython\n",
      "* Fisico\n",
      " * University of Colorado Boulder: Physics, 1996 - 2002\n",
      " * Universidad de Antioquia: Physics, 1991 - 1995\n",
      "* M\u00e1s sobre Fernando: https://plus.google.com/+FernandoPerez/about\n",
      "* Charla PyCon Canada 2014: http://pyvideo.org/video/2683/keynote-fernando-perez\n",
      "\n",
      "<!-- <img src=\"files/images/fernando-perez.jpg\" width=\"600\"> -->\n",
      "<img src=\"https://lh4.googleusercontent.com/-WyrObzzcWmc/T5UWvZY2dCI/AAAAAAAAIlg/p4rYr0b_h0M/s872-no/img_5915_sm.jpg\" width=\"200\">\n",
      "\n",
      "\n",
      "\n",
      "IPython notebook\n",
      "----------------\n",
      "\n",
      "[IPython notebook](http://ipython.org/notebook.html) es un entorno \"de cuaderno'' basado en HTML para Python, similar a Mathematica o Maple. Est\u00e1 basado en la shell IPython, pero suministra un ambiente basado en celdas con gran interactividad, donde los c\u00e1lculos pueden ser organizados y documentados en una forma estructurada.\n",
      "\n",
      "<!-- <img src=\"files/images/ipython-notebook-screenshot.png\" width=\"800\"> -->\n",
      "<img src=\"https://raw.github.com/gfrubi/clases-python-cientifico/master/images/ipython-notebook-screenshot.png\" width=\"800\">\n",
      "\n",
      "Aunque se usa el navegador web con interface gr\u00e1fica, los notebooks IPython suelen ejecutarse localmente. Para iniciar una nueva sesi\u00f3n de IPython notebook, ejecute el siguiente comando:\n",
      "\n",
      "    $ ipython notebook\n",
      "\n",
      "desde una carpeta en que que desea almacenar los notebooks. Esto abrir\u00e1 una nueva ventana del navegador (o una nueva pesta\u00f1a en una ventana existente) con una p\u00e1gina \u00edndice donde se muestrasn los cuadernos existentes y desde donde nuevos cuadernos pueden ser creados."
     ]
    },
    {
     "cell_type": "markdown",
     "metadata": {},
     "source": [
      "Spyder\n",
      "------\n",
      "\n",
      "[Spyder](http://code.google.com/p/spyderlib/) es un IDE (entorno de desarrollo interactivo, por su sigla en ingl\u00e9s) similar a MATLAB para computaci\u00f3n cient\u00edfica con Python. Tiene muchas de las ventajas de un IDE, por ejemplo que todo, desde la edici\u00f3n del c\u00f3digo, su ejecuci\u00f3n y depuraci\u00f3n, es realizado en un mismo entorno, y el trabajo en diferentes c\u00e1lculos puede ser organizado como proyectos en el IDE.\n",
      "\n",
      "<!-- <img src=\"files/images/spyder-screenshot.jpg\" width=\"800\"> -->\n",
      "<img src=\"https://raw.github.com/gfrubi/clases-python-cientifico/master/images/spyder-screenshot.jpg\" width=\"800\">\n",
      "\n",
      "Algunas ventajas de Spyder:\n",
      "\n",
      "* Poderoso editor de c\u00f3digo, con coloreado de sintaxis, instrospecci\u00f3n din\u00e1mica de c\u00f3digo, e integraci\u00f3n con el depurador de Python.\n",
      "* Explorador de variables, prompt de comando IPython.\n",
      "* Documentaci\u00f3n y ayuda integrada."
     ]
    },
    {
     "cell_type": "heading",
     "level": 2,
     "metadata": {},
     "source": [
      "Dudas? Seguimos con la introducci\u00f3n de Python?"
     ]
    }
   ],
   "metadata": {}
  }
 ]
}