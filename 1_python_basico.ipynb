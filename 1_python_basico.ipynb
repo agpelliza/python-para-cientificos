{
 "metadata": {
  "name": "",
  "signature": "sha256:c47322c59bdb2e133cc0ae024c69a0c63d286c1e34e23fac2b561fd1de40f0e9"
 },
 "nbformat": 3,
 "nbformat_minor": 0,
 "worksheets": [
  {
   "cells": [
    {
     "cell_type": "heading",
     "level": 1,
     "metadata": {},
     "source": [
      "Introducci\u00f3n a Python"
     ]
    },
    {
     "cell_type": "heading",
     "level": 1,
     "metadata": {},
     "source": [
      "Sintaxis B\u00e1sica"
     ]
    },
    {
     "cell_type": "heading",
     "level": 2,
     "metadata": {},
     "source": [
      "Print"
     ]
    },
    {
     "cell_type": "code",
     "collapsed": false,
     "input": [
      "print 1\n",
      "print \"hola\"\n",
      "print [1, 2, 4]\n",
      "nombre = \"Santiago\"\n",
      "print nombre\n",
      "print \"mi nombre es %s\" %(nombre)"
     ],
     "language": "python",
     "metadata": {},
     "outputs": [
      {
       "output_type": "stream",
       "stream": "stdout",
       "text": [
        "1\n",
        "hola\n",
        "[1, 2, 4]\n",
        "Santiago\n",
        "mi nombre es Santiago\n"
       ]
      }
     ],
     "prompt_number": 1
    },
    {
     "cell_type": "heading",
     "level": 2,
     "metadata": {},
     "source": [
      "Operaciones matem\u00e1ticas"
     ]
    },
    {
     "cell_type": "code",
     "collapsed": false,
     "input": [
      "print 1 + 2\n",
      "print 1 - 10\n",
      "print 10 * 100\n",
      "print 10 / 5\n",
      "print 10 / 3\n",
      "print 10 ** 2"
     ],
     "language": "python",
     "metadata": {},
     "outputs": [
      {
       "output_type": "stream",
       "stream": "stdout",
       "text": [
        "3\n",
        "-9\n",
        "1000\n",
        "2\n",
        "3\n",
        "100\n"
       ]
      }
     ],
     "prompt_number": 2
    },
    {
     "cell_type": "markdown",
     "metadata": {},
     "source": [
      "La divisi\u00f3n por 0  arroja una excepci\u00f3n"
     ]
    },
    {
     "cell_type": "code",
     "collapsed": false,
     "input": [
      "7 / 0"
     ],
     "language": "python",
     "metadata": {},
     "outputs": [
      {
       "ename": "ZeroDivisionError",
       "evalue": "integer division or modulo by zero",
       "output_type": "pyerr",
       "traceback": [
        "\u001b[1;31m---------------------------------------------------------------------------\u001b[0m\n\u001b[1;31mZeroDivisionError\u001b[0m                         Traceback (most recent call last)",
        "\u001b[1;32m<ipython-input-3-0ea40df5391c>\u001b[0m in \u001b[0;36m<module>\u001b[1;34m()\u001b[0m\n\u001b[1;32m----> 1\u001b[1;33m \u001b[1;36m7\u001b[0m \u001b[1;33m/\u001b[0m \u001b[1;36m0\u001b[0m\u001b[1;33m\u001b[0m\u001b[0m\n\u001b[0m",
        "\u001b[1;31mZeroDivisionError\u001b[0m: integer division or modulo by zero"
       ]
      }
     ],
     "prompt_number": 3
    },
    {
     "cell_type": "markdown",
     "metadata": {},
     "source": [
      "Tomar la ra\u00edz cuadrada de un n\u00famero negativo tambi\u00e9n arroja una excepci\u00f3n"
     ]
    },
    {
     "cell_type": "code",
     "collapsed": false,
     "input": [
      "(-1) ** 0.5"
     ],
     "language": "python",
     "metadata": {},
     "outputs": [
      {
       "ename": "ValueError",
       "evalue": "negative number cannot be raised to a fractional power",
       "output_type": "pyerr",
       "traceback": [
        "\u001b[1;31m---------------------------------------------------------------------------\u001b[0m\n\u001b[1;31mValueError\u001b[0m                                Traceback (most recent call last)",
        "\u001b[1;32m<ipython-input-4-ff77933db820>\u001b[0m in \u001b[0;36m<module>\u001b[1;34m()\u001b[0m\n\u001b[1;32m----> 1\u001b[1;33m \u001b[1;33m(\u001b[0m\u001b[1;33m-\u001b[0m\u001b[1;36m1\u001b[0m\u001b[1;33m)\u001b[0m \u001b[1;33m**\u001b[0m \u001b[1;36m0.5\u001b[0m\u001b[1;33m\u001b[0m\u001b[0m\n\u001b[0m",
        "\u001b[1;31mValueError\u001b[0m: negative number cannot be raised to a fractional power"
       ]
      }
     ],
     "prompt_number": 4
    },
    {
     "cell_type": "heading",
     "level": 2,
     "metadata": {},
     "source": [
      "N\u00fameros"
     ]
    },
    {
     "cell_type": "code",
     "collapsed": false,
     "input": [
      "print 10.0 / 3\n",
      "print 0.54 ** 2\n",
      "print 9.0 ** 0.5"
     ],
     "language": "python",
     "metadata": {},
     "outputs": [
      {
       "output_type": "stream",
       "stream": "stdout",
       "text": [
        "3.33333333333\n",
        "0.2916\n",
        "3.0\n"
       ]
      }
     ],
     "prompt_number": 5
    },
    {
     "cell_type": "code",
     "collapsed": false,
     "input": [
      "print 1 + 2j\n",
      "print (1+2j) + (2+3j)\n",
      "print 1j ** 2"
     ],
     "language": "python",
     "metadata": {},
     "outputs": [
      {
       "output_type": "stream",
       "stream": "stdout",
       "text": [
        "(1+2j)\n",
        "(3+5j)\n",
        "(-1+0j)\n"
       ]
      }
     ],
     "prompt_number": 6
    },
    {
     "cell_type": "heading",
     "level": 3,
     "metadata": {},
     "source": [
      "Tipos"
     ]
    },
    {
     "cell_type": "code",
     "collapsed": false,
     "input": [
      "print type(1)\n",
      "print type(1000000000000000000000000)\n",
      "print type(2.0)\n",
      "print type(5+1j)"
     ],
     "language": "python",
     "metadata": {},
     "outputs": [
      {
       "output_type": "stream",
       "stream": "stdout",
       "text": [
        "<type 'int'>\n",
        "<type 'long'>\n",
        "<type 'float'>\n",
        "<type 'complex'>\n"
       ]
      }
     ],
     "prompt_number": 7
    },
    {
     "cell_type": "heading",
     "level": 3,
     "metadata": {},
     "source": [
      "Conversi\u00f3n de tipos"
     ]
    },
    {
     "cell_type": "code",
     "collapsed": false,
     "input": [
      "print float(1)\n",
      "print complex(1.0)"
     ],
     "language": "python",
     "metadata": {},
     "outputs": [
      {
       "output_type": "stream",
       "stream": "stdout",
       "text": [
        "1.0\n",
        "(1+0j)\n"
       ]
      }
     ],
     "prompt_number": 8
    },
    {
     "cell_type": "code",
     "collapsed": false,
     "input": [
      "int(1.5)"
     ],
     "language": "python",
     "metadata": {},
     "outputs": [
      {
       "metadata": {},
       "output_type": "pyout",
       "prompt_number": 9,
       "text": [
        "1"
       ]
      }
     ],
     "prompt_number": 9
    },
    {
     "cell_type": "markdown",
     "metadata": {},
     "source": [
      "Convertir a un tipo de menos informaci\u00f3n puede fallar"
     ]
    },
    {
     "cell_type": "code",
     "collapsed": false,
     "input": [
      "float(1+1j)"
     ],
     "language": "python",
     "metadata": {},
     "outputs": [
      {
       "ename": "TypeError",
       "evalue": "can't convert complex to float",
       "output_type": "pyerr",
       "traceback": [
        "\u001b[1;31m---------------------------------------------------------------------------\u001b[0m\n\u001b[1;31mTypeError\u001b[0m                                 Traceback (most recent call last)",
        "\u001b[1;32m<ipython-input-10-215f213c112b>\u001b[0m in \u001b[0;36m<module>\u001b[1;34m()\u001b[0m\n\u001b[1;32m----> 1\u001b[1;33m \u001b[0mfloat\u001b[0m\u001b[1;33m(\u001b[0m\u001b[1;36m1\u001b[0m\u001b[1;33m+\u001b[0m\u001b[1;36m1j\u001b[0m\u001b[1;33m)\u001b[0m\u001b[1;33m\u001b[0m\u001b[0m\n\u001b[0m",
        "\u001b[1;31mTypeError\u001b[0m: can't convert complex to float"
       ]
      }
     ],
     "prompt_number": 10
    },
    {
     "cell_type": "heading",
     "level": 2,
     "metadata": {},
     "source": [
      "Operaciones sobre n\u00fameros"
     ]
    },
    {
     "cell_type": "markdown",
     "metadata": {},
     "source": [
      "Para hallar el valor absoluto podemos usar la funcion abs()"
     ]
    },
    {
     "cell_type": "code",
     "collapsed": false,
     "input": [
      "print abs(-1)\n",
      "print abs(-2.0)\n",
      "print abs(1+1j)"
     ],
     "language": "python",
     "metadata": {},
     "outputs": [
      {
       "output_type": "stream",
       "stream": "stdout",
       "text": [
        "1\n",
        "2.0\n",
        "1.41421356237\n"
       ]
      }
     ],
     "prompt_number": 11
    },
    {
     "cell_type": "markdown",
     "metadata": {},
     "source": [
      "Podemos buscar minimos y m\u00e1ximos"
     ]
    },
    {
     "cell_type": "code",
     "collapsed": false,
     "input": [
      "min(1, 2, 3)"
     ],
     "language": "python",
     "metadata": {},
     "outputs": [
      {
       "metadata": {},
       "output_type": "pyout",
       "prompt_number": 12,
       "text": [
        "1"
       ]
      }
     ],
     "prompt_number": 12
    },
    {
     "cell_type": "code",
     "collapsed": false,
     "input": [
      "min(1+1j, 2+3j)"
     ],
     "language": "python",
     "metadata": {},
     "outputs": [
      {
       "ename": "TypeError",
       "evalue": "no ordering relation is defined for complex numbers",
       "output_type": "pyerr",
       "traceback": [
        "\u001b[1;31m---------------------------------------------------------------------------\u001b[0m\n\u001b[1;31mTypeError\u001b[0m                                 Traceback (most recent call last)",
        "\u001b[1;32m<ipython-input-13-5f944ccdd97b>\u001b[0m in \u001b[0;36m<module>\u001b[1;34m()\u001b[0m\n\u001b[1;32m----> 1\u001b[1;33m \u001b[0mmin\u001b[0m\u001b[1;33m(\u001b[0m\u001b[1;36m1\u001b[0m\u001b[1;33m+\u001b[0m\u001b[1;36m1j\u001b[0m\u001b[1;33m,\u001b[0m \u001b[1;36m2\u001b[0m\u001b[1;33m+\u001b[0m\u001b[1;36m3j\u001b[0m\u001b[1;33m)\u001b[0m\u001b[1;33m\u001b[0m\u001b[0m\n\u001b[0m",
        "\u001b[1;31mTypeError\u001b[0m: no ordering relation is defined for complex numbers"
       ]
      }
     ],
     "prompt_number": 13
    },
    {
     "cell_type": "markdown",
     "metadata": {},
     "source": [
      "Para ver mas funciones b\u00e1sicas (built_in functions): https://docs.python.org/2/library/functions.html"
     ]
    },
    {
     "cell_type": "heading",
     "level": 4,
     "metadata": {},
     "source": [
      "Comparaciones"
     ]
    },
    {
     "cell_type": "code",
     "collapsed": false,
     "input": [
      "1 < 5"
     ],
     "language": "python",
     "metadata": {},
     "outputs": [
      {
       "metadata": {},
       "output_type": "pyout",
       "prompt_number": 14,
       "text": [
        "True"
       ]
      }
     ],
     "prompt_number": 14
    },
    {
     "cell_type": "code",
     "collapsed": false,
     "input": [
      "1 < 2 < 3  <= 5"
     ],
     "language": "python",
     "metadata": {},
     "outputs": [
      {
       "metadata": {},
       "output_type": "pyout",
       "prompt_number": 15,
       "text": [
        "True"
       ]
      }
     ],
     "prompt_number": 15
    },
    {
     "cell_type": "code",
     "collapsed": false,
     "input": [
      "1 > 2"
     ],
     "language": "python",
     "metadata": {},
     "outputs": [
      {
       "metadata": {},
       "output_type": "pyout",
       "prompt_number": 16,
       "text": [
        "False"
       ]
      }
     ],
     "prompt_number": 16
    },
    {
     "cell_type": "code",
     "collapsed": false,
     "input": [
      "type(1 < 2)"
     ],
     "language": "python",
     "metadata": {},
     "outputs": [
      {
       "metadata": {},
       "output_type": "pyout",
       "prompt_number": 17,
       "text": [
        "bool"
       ]
      }
     ],
     "prompt_number": 17
    },
    {
     "cell_type": "markdown",
     "metadata": {},
     "source": [
      "## Variables y tipos\n",
      "\n",
      "### Nombres de s\u00edmbolos\n",
      "\n",
      "Los nombres de las variables en Python pueden contener los caracteres `a-z`, `A-Z`, `0-9` y algunos caracteres especiales como `_`. Los nombres de variables normales deben comenzar con una letra. \n",
      "\n",
      "Por convenci\u00f3n, los nombres de las variables comienzan con letra min\u00fascula, mientras que los nombres de las clases comienzan con una letra may\u00fascula. \n",
      "\n",
      "Adem\u00e1s, existen algunos palabras claves Python que no pueden ser usados como nombres de variables. \u00c9stas son:\n",
      "\n",
      "    and, as, assert, break, class, continue, def, del, elif, else, except, \n",
      "    exec, finally, for, from, global, if, import, in, is, lambda, not, or,\n",
      "    pass, print, raise, return, try, while, with, yield\n",
      "\n",
      "<div class=\"alert alert-warning\">\n",
      "Atenci\u00f3n con la palabra `lambda`, que podr\u00eda f\u00e1cilmente ser un nombre de variable natural en un programa cient\u00edfico. Sin embargo, como es una palabra clave, no puede ser usado como nombre de una variable.\n",
      "</div>\n",
      "\n",
      "### Asignaciones\n",
      "\n",
      "El operador para asignar valores en Python es `=`. Python es un lenguage de escritura din\u00e1mica, de modo que no necesitamos especificar el tipo de una variable cuando creamos una.\n",
      "\n",
      "Al asignar un valor a una variable nueva se crea esa variable:"
     ]
    },
    {
     "cell_type": "code",
     "collapsed": false,
     "input": [
      "x = 1.0\n",
      "mi_variable = 128\n",
      "var1, var2 = 5 , 4\n",
      "print var1\n",
      "print var2"
     ],
     "language": "python",
     "metadata": {},
     "outputs": [
      {
       "output_type": "stream",
       "stream": "stdout",
       "text": [
        "5\n",
        "4\n"
       ]
      }
     ],
     "prompt_number": 18
    },
    {
     "cell_type": "code",
     "collapsed": false,
     "input": [
      "var1 == var2"
     ],
     "language": "python",
     "metadata": {},
     "outputs": [
      {
       "metadata": {},
       "output_type": "pyout",
       "prompt_number": 19,
       "text": [
        "False"
       ]
      }
     ],
     "prompt_number": 19
    },
    {
     "cell_type": "heading",
     "level": 2,
     "metadata": {},
     "source": [
      "Otros tipos de datos"
     ]
    },
    {
     "cell_type": "heading",
     "level": 3,
     "metadata": {},
     "source": [
      "Secuencias: Tuplas y listas"
     ]
    },
    {
     "cell_type": "code",
     "collapsed": false,
     "input": [
      "una_tupla = (1, 20.0, \"String\", (1+1j))\n",
      "una_lista = [1, 20.0, \"String\", (1+1j)]\n",
      "print una_tupla\n",
      "print una_lista\n",
      "print una_tupla == una_lista"
     ],
     "language": "python",
     "metadata": {},
     "outputs": [
      {
       "output_type": "stream",
       "stream": "stdout",
       "text": [
        "(1, 20.0, 'String', (1+1j))\n",
        "[1, 20.0, 'String', (1+1j)]\n",
        "False\n"
       ]
      }
     ],
     "prompt_number": 20
    },
    {
     "cell_type": "markdown",
     "metadata": {},
     "source": [
      "Podemos obviar los par\u00e9ntesis cuando definimos una tupla"
     ]
    },
    {
     "cell_type": "code",
     "collapsed": false,
     "input": [
      "1 , 15.4 , \"Hola\""
     ],
     "language": "python",
     "metadata": {},
     "outputs": [
      {
       "metadata": {},
       "output_type": "pyout",
       "prompt_number": 21,
       "text": [
        "(1, 15.4, 'Hola')"
       ]
      }
     ],
     "prompt_number": 21
    },
    {
     "cell_type": "markdown",
     "metadata": {},
     "source": [
      "Tienes operaciones en com\u00fan"
     ]
    },
    {
     "cell_type": "code",
     "collapsed": false,
     "input": [
      "print len(una_tupla), len(una_lista)"
     ],
     "language": "python",
     "metadata": {},
     "outputs": [
      {
       "output_type": "stream",
       "stream": "stdout",
       "text": [
        "4 4\n"
       ]
      }
     ],
     "prompt_number": 22
    },
    {
     "cell_type": "code",
     "collapsed": false,
     "input": [
      "1 in una_tupla"
     ],
     "language": "python",
     "metadata": {},
     "outputs": [
      {
       "metadata": {},
       "output_type": "pyout",
       "prompt_number": 23,
       "text": [
        "True"
       ]
      }
     ],
     "prompt_number": 23
    },
    {
     "cell_type": "code",
     "collapsed": false,
     "input": [
      "1 in una_lista"
     ],
     "language": "python",
     "metadata": {},
     "outputs": [
      {
       "metadata": {},
       "output_type": "pyout",
       "prompt_number": 24,
       "text": [
        "True"
       ]
      }
     ],
     "prompt_number": 24
    },
    {
     "cell_type": "markdown",
     "metadata": {},
     "source": [
      "* Podemos *indexar* las secuencias, utilizando la sintaxis `[<inicio>:<final>:<salto>]`:"
     ]
    },
    {
     "cell_type": "code",
     "collapsed": false,
     "input": [
      "print una_lista[0]  # Primer elemento, 1\n",
      "print una_tupla[1]  # Segundo elemento, 2\n",
      "print una_lista[0:2]  # Desde el primero hasta el tercero, excluyendo este: 1, 2\n",
      "print una_tupla[:3]  # Desde el primero hasta el cuarto, excluyendo este: 1, 2, 3.0\n",
      "print una_lista[-1]   # El \u00faltimo: 4 + 0j\n",
      "print una_tupla[:]  # Desde el primero hasta el \u00faltimo\n",
      "print una_lista[::2]  # Desde el primero hasta el \u00faltimo, saltando 2: 1, 3.0"
     ],
     "language": "python",
     "metadata": {},
     "outputs": [
      {
       "output_type": "stream",
       "stream": "stdout",
       "text": [
        "1\n",
        "20.0\n",
        "[1, 20.0]\n",
        "(1, 20.0, 'String')\n",
        "(1+1j)\n",
        "(1, 20.0, 'String', (1+1j))\n",
        "[1, 'String']\n"
       ]
      }
     ],
     "prompt_number": 25
    },
    {
     "cell_type": "markdown",
     "metadata": {},
     "source": [
      "<div class=\"alert alert-warning\"><strong>Nota:</strong> \u00a1En Python la indexaci\u00f3n empieza por cero!</div>"
     ]
    },
    {
     "cell_type": "markdown",
     "metadata": {},
     "source": [
      "Podemos cambiar el valor de una elemento de una lista"
     ]
    },
    {
     "cell_type": "code",
     "collapsed": false,
     "input": [
      "una_lista[0] = 2\n",
      "print una_lista"
     ],
     "language": "python",
     "metadata": {},
     "outputs": [
      {
       "output_type": "stream",
       "stream": "stdout",
       "text": [
        "[2, 20.0, 'String', (1+1j)]\n"
       ]
      }
     ],
     "prompt_number": 26
    },
    {
     "cell_type": "markdown",
     "metadata": {},
     "source": [
      "Pero, no podemos cambiar el valor de un elemento de una tupla"
     ]
    },
    {
     "cell_type": "code",
     "collapsed": false,
     "input": [
      "una_tupla[0] = 2 "
     ],
     "language": "python",
     "metadata": {},
     "outputs": [
      {
       "ename": "TypeError",
       "evalue": "'tuple' object does not support item assignment",
       "output_type": "pyerr",
       "traceback": [
        "\u001b[1;31m---------------------------------------------------------------------------\u001b[0m\n\u001b[1;31mTypeError\u001b[0m                                 Traceback (most recent call last)",
        "\u001b[1;32m<ipython-input-27-ad776b542125>\u001b[0m in \u001b[0;36m<module>\u001b[1;34m()\u001b[0m\n\u001b[1;32m----> 1\u001b[1;33m \u001b[0muna_tupla\u001b[0m\u001b[1;33m[\u001b[0m\u001b[1;36m0\u001b[0m\u001b[1;33m]\u001b[0m \u001b[1;33m=\u001b[0m \u001b[1;36m2\u001b[0m\u001b[1;33m\u001b[0m\u001b[0m\n\u001b[0m",
        "\u001b[1;31mTypeError\u001b[0m: 'tuple' object does not support item assignment"
       ]
      }
     ],
     "prompt_number": 27
    },
    {
     "cell_type": "heading",
     "level": 2,
     "metadata": {},
     "source": [
      "Estructuras de Control"
     ]
    },
    {
     "cell_type": "heading",
     "level": 3,
     "metadata": {},
     "source": [
      "Condicionales"
     ]
    },
    {
     "cell_type": "code",
     "collapsed": false,
     "input": [
      "edad = 20\n",
      "if edad < 18:\n",
      "    print \"menor de edad\"\n",
      "else:\n",
      "    print \"mayor de edad\""
     ],
     "language": "python",
     "metadata": {},
     "outputs": [
      {
       "output_type": "stream",
       "stream": "stdout",
       "text": [
        "mayor de edad\n"
       ]
      }
     ],
     "prompt_number": 28
    },
    {
     "cell_type": "markdown",
     "metadata": {},
     "source": [
      "<div class=\"alert alert-error\"><strong>Importante:</strong> En Python los bloques se delimitan por sangrado, utilizando siempre cuatro espacios. Cuando ponemos los dos puntos al final de la primera l\u00ednea del condicional, todo lo que vaya a continuaci\u00f3n con *un* nivel de sangrado superior se considera dentro del condicional. En cuanto escribimos la primera l\u00ednea con un nivel de sangrado inferior, hemos cerrado el condicional. Si no seguimos esto a rajatabla Python nos dar\u00e1 errores; es una forma de forzar a que el c\u00f3digo sea legible.</div>"
     ]
    },
    {
     "cell_type": "markdown",
     "metadata": {},
     "source": [
      "Si queremos a\u00f1adir condiciones adicionales, podemos usar la sentencia `elif` (abreviatura de *else if*). Para la parte final, que debe ejecutarse si ninguna de las condiciones anteriores se ha cumplido, usamos la sentencia `else`"
     ]
    },
    {
     "cell_type": "code",
     "collapsed": false,
     "input": [
      "if edad == 0:\n",
      "    print \"recien nacido\"\n",
      "elif 0 < edad < 18:\n",
      "    print \"menor de edad\"\n",
      "elif edad > 18:\n",
      "    print \"mayor de edad\"\n",
      "else:\n",
      "    print \"No nacido\"  \n",
      "    "
     ],
     "language": "python",
     "metadata": {},
     "outputs": [
      {
       "output_type": "stream",
       "stream": "stdout",
       "text": [
        "mayor de edad\n"
       ]
      }
     ],
     "prompt_number": 29
    },
    {
     "cell_type": "heading",
     "level": 3,
     "metadata": {},
     "source": [
      "Ciclos"
     ]
    },
    {
     "cell_type": "markdown",
     "metadata": {},
     "source": [
      "Hay dos tipos de bucles en Python: `while` y `for`. <br>\n",
      "Como en el caso de los condicionales, el cuerpo del ciclo se determinan con el sangrado"
     ]
    },
    {
     "cell_type": "code",
     "collapsed": false,
     "input": [
      "ii = 0\n",
      "while ii < 5:\n",
      "    print(ii)\n",
      "    ii += 1"
     ],
     "language": "python",
     "metadata": {},
     "outputs": [
      {
       "output_type": "stream",
       "stream": "stdout",
       "text": [
        "0\n",
        "1\n",
        "2\n",
        "3\n",
        "4\n"
       ]
      }
     ],
     "prompt_number": 30
    },
    {
     "cell_type": "markdown",
     "metadata": {},
     "source": [
      "Podemos interrumpir el ciclo con la sentencia `break`"
     ]
    },
    {
     "cell_type": "code",
     "collapsed": false,
     "input": [
      "ii = 0\n",
      "while ii < 5:\n",
      "    print(ii)\n",
      "    ii += 1\n",
      "    if ii == 3:\n",
      "        break"
     ],
     "language": "python",
     "metadata": {},
     "outputs": [
      {
       "output_type": "stream",
       "stream": "stdout",
       "text": [
        "0\n",
        "1\n",
        "2\n"
       ]
      }
     ],
     "prompt_number": 31
    },
    {
     "cell_type": "markdown",
     "metadata": {},
     "source": [
      "Podemos determinar si el ciclo termin\u00f3, de la siguiente forma"
     ]
    },
    {
     "cell_type": "code",
     "collapsed": false,
     "input": [
      "ii = 0\n",
      "while ii < 5:\n",
      "    print(ii)\n",
      "    ii += 1\n",
      "else:\n",
      "    print \"El ciclo termin\u00f3\""
     ],
     "language": "python",
     "metadata": {},
     "outputs": [
      {
       "output_type": "stream",
       "stream": "stdout",
       "text": [
        "0\n",
        "1\n",
        "2\n",
        "3\n",
        "4\n",
        "El ciclo termin\u00f3\n"
       ]
      }
     ],
     "prompt_number": 32
    },
    {
     "cell_type": "markdown",
     "metadata": {},
     "source": [
      "Las sentencia for se utiliza para recorrer una secuencia de elementos"
     ]
    },
    {
     "cell_type": "code",
     "collapsed": false,
     "input": [
      "for ii in 1, 2, 4:\n",
      "    print(ii)"
     ],
     "language": "python",
     "metadata": {},
     "outputs": [
      {
       "output_type": "stream",
       "stream": "stdout",
       "text": [
        "1\n",
        "2\n",
        "4\n"
       ]
      }
     ],
     "prompt_number": 33
    },
    {
     "cell_type": "code",
     "collapsed": false,
     "input": [
      "for nombre in \"Juan\", \"Luis\", \"Carlos\":\n",
      "    print(nombre)"
     ],
     "language": "python",
     "metadata": {},
     "outputs": [
      {
       "output_type": "stream",
       "stream": "stdout",
       "text": [
        "Juan\n",
        "Luis\n",
        "Carlos\n"
       ]
      }
     ],
     "prompt_number": 34
    },
    {
     "cell_type": "code",
     "collapsed": false,
     "input": [
      "for ii in range(1250):\n",
      "    print(ii)"
     ],
     "language": "python",
     "metadata": {},
     "outputs": [
      {
       "output_type": "stream",
       "stream": "stdout",
       "text": [
        "0\n",
        "1\n",
        "2\n",
        "3\n",
        "4\n",
        "5\n",
        "6\n",
        "7\n",
        "8\n",
        "9\n",
        "10\n",
        "11\n",
        "12\n",
        "13\n",
        "14\n",
        "15\n",
        "16\n",
        "17\n",
        "18\n",
        "19\n",
        "20\n",
        "21\n",
        "22\n",
        "23\n",
        "24\n",
        "25\n",
        "26\n",
        "27\n",
        "28\n",
        "29\n",
        "30\n",
        "31\n",
        "32\n",
        "33\n",
        "34\n",
        "35\n",
        "36\n",
        "37\n",
        "38\n",
        "39\n",
        "40\n",
        "41\n",
        "42\n",
        "43\n",
        "44\n",
        "45\n",
        "46\n",
        "47\n",
        "48\n",
        "49\n",
        "50\n",
        "51\n",
        "52\n",
        "53\n",
        "54\n",
        "55\n",
        "56\n",
        "57\n",
        "58\n",
        "59\n",
        "60\n",
        "61\n",
        "62\n",
        "63\n",
        "64\n",
        "65\n",
        "66\n",
        "67\n",
        "68\n",
        "69\n",
        "70\n",
        "71\n",
        "72\n",
        "73\n",
        "74\n",
        "75\n",
        "76\n",
        "77\n",
        "78\n",
        "79\n",
        "80\n",
        "81\n",
        "82\n",
        "83\n",
        "84\n",
        "85\n",
        "86\n",
        "87\n",
        "88\n",
        "89\n",
        "90\n",
        "91\n",
        "92\n",
        "93\n",
        "94\n",
        "95\n",
        "96\n",
        "97\n",
        "98\n",
        "99\n",
        "100\n",
        "101\n",
        "102\n",
        "103\n",
        "104\n",
        "105\n",
        "106\n",
        "107\n",
        "108\n",
        "109\n",
        "110\n",
        "111\n",
        "112\n",
        "113\n",
        "114\n",
        "115\n",
        "116\n",
        "117\n",
        "118\n",
        "119\n",
        "120\n",
        "121\n",
        "122\n",
        "123\n",
        "124\n",
        "125\n",
        "126\n",
        "127\n",
        "128\n",
        "129\n",
        "130\n",
        "131\n",
        "132\n",
        "133\n",
        "134\n",
        "135\n",
        "136\n",
        "137\n",
        "138\n",
        "139\n",
        "140\n",
        "141\n",
        "142\n",
        "143\n",
        "144\n",
        "145\n",
        "146\n",
        "147\n",
        "148\n",
        "149\n",
        "150\n",
        "151\n",
        "152\n",
        "153\n",
        "154\n",
        "155\n",
        "156\n",
        "157\n",
        "158\n",
        "159\n",
        "160\n",
        "161\n",
        "162\n",
        "163\n",
        "164\n",
        "165\n",
        "166\n",
        "167\n",
        "168\n",
        "169\n",
        "170\n",
        "171\n",
        "172\n",
        "173\n",
        "174\n",
        "175\n",
        "176\n",
        "177\n",
        "178\n",
        "179\n",
        "180\n",
        "181\n",
        "182\n",
        "183\n",
        "184\n",
        "185\n",
        "186\n",
        "187\n",
        "188\n",
        "189\n",
        "190\n",
        "191\n",
        "192\n",
        "193\n",
        "194\n",
        "195\n",
        "196\n",
        "197\n",
        "198\n",
        "199\n",
        "200\n",
        "201\n",
        "202\n",
        "203\n",
        "204\n",
        "205\n",
        "206\n",
        "207\n",
        "208\n",
        "209\n",
        "210\n",
        "211\n",
        "212\n",
        "213\n",
        "214\n",
        "215\n",
        "216\n",
        "217\n",
        "218\n",
        "219\n",
        "220\n",
        "221\n",
        "222\n",
        "223\n",
        "224\n",
        "225\n",
        "226\n",
        "227\n",
        "228\n",
        "229\n",
        "230\n",
        "231\n",
        "232\n",
        "233\n",
        "234\n",
        "235\n",
        "236\n",
        "237\n",
        "238\n",
        "239\n",
        "240\n",
        "241\n",
        "242\n",
        "243\n",
        "244\n",
        "245\n",
        "246\n",
        "247\n",
        "248\n",
        "249\n",
        "250\n",
        "251\n",
        "252\n",
        "253\n",
        "254\n",
        "255\n",
        "256\n",
        "257\n",
        "258\n",
        "259\n",
        "260\n",
        "261\n",
        "262\n",
        "263\n",
        "264\n",
        "265\n",
        "266\n",
        "267\n",
        "268\n",
        "269\n",
        "270\n",
        "271\n",
        "272\n",
        "273\n",
        "274\n",
        "275\n",
        "276\n",
        "277\n",
        "278\n",
        "279\n",
        "280\n",
        "281\n",
        "282\n",
        "283\n",
        "284\n",
        "285\n",
        "286\n",
        "287\n",
        "288\n",
        "289\n",
        "290\n",
        "291\n",
        "292\n",
        "293\n",
        "294\n",
        "295\n",
        "296\n",
        "297\n",
        "298\n",
        "299\n",
        "300\n",
        "301\n",
        "302\n",
        "303\n",
        "304\n",
        "305\n",
        "306\n",
        "307\n",
        "308\n",
        "309\n",
        "310\n",
        "311\n",
        "312\n",
        "313\n",
        "314\n",
        "315\n",
        "316\n",
        "317\n",
        "318\n",
        "319\n",
        "320\n",
        "321\n",
        "322\n",
        "323\n",
        "324\n",
        "325\n",
        "326\n",
        "327\n",
        "328\n",
        "329\n",
        "330\n",
        "331\n",
        "332\n",
        "333\n",
        "334\n",
        "335\n",
        "336\n",
        "337\n",
        "338\n",
        "339\n",
        "340\n",
        "341\n",
        "342\n",
        "343\n",
        "344\n",
        "345\n",
        "346\n",
        "347\n",
        "348\n",
        "349\n",
        "350\n",
        "351\n",
        "352\n",
        "353\n",
        "354\n",
        "355\n",
        "356\n",
        "357\n",
        "358\n",
        "359\n",
        "360\n",
        "361\n",
        "362\n",
        "363\n",
        "364\n",
        "365\n",
        "366\n",
        "367\n",
        "368\n",
        "369\n",
        "370\n",
        "371\n",
        "372\n",
        "373\n",
        "374\n",
        "375\n",
        "376\n",
        "377\n",
        "378\n",
        "379\n",
        "380\n",
        "381\n",
        "382\n",
        "383\n",
        "384\n",
        "385\n",
        "386\n",
        "387\n",
        "388\n",
        "389\n",
        "390\n",
        "391\n",
        "392\n",
        "393\n",
        "394\n",
        "395\n",
        "396\n",
        "397\n",
        "398\n",
        "399\n",
        "400\n",
        "401\n",
        "402\n",
        "403\n",
        "404\n",
        "405\n",
        "406\n",
        "407\n",
        "408\n",
        "409\n",
        "410\n",
        "411\n",
        "412\n",
        "413\n",
        "414\n",
        "415\n",
        "416\n",
        "417\n",
        "418\n",
        "419\n",
        "420\n",
        "421\n",
        "422\n",
        "423\n",
        "424\n",
        "425\n",
        "426\n",
        "427\n",
        "428\n",
        "429\n",
        "430\n",
        "431\n",
        "432\n",
        "433\n",
        "434\n",
        "435\n",
        "436\n",
        "437\n",
        "438\n",
        "439\n",
        "440\n",
        "441\n",
        "442\n",
        "443\n",
        "444\n",
        "445\n",
        "446\n",
        "447\n",
        "448\n",
        "449\n",
        "450\n",
        "451\n",
        "452\n",
        "453\n",
        "454\n",
        "455\n",
        "456\n",
        "457\n",
        "458\n",
        "459\n",
        "460\n",
        "461\n",
        "462\n",
        "463\n",
        "464\n",
        "465\n",
        "466\n",
        "467\n",
        "468\n",
        "469\n",
        "470\n",
        "471\n",
        "472\n",
        "473\n",
        "474\n",
        "475\n",
        "476\n",
        "477\n",
        "478\n",
        "479\n",
        "480\n",
        "481\n",
        "482\n",
        "483\n",
        "484\n",
        "485\n",
        "486\n",
        "487\n",
        "488\n",
        "489\n",
        "490\n",
        "491\n",
        "492\n",
        "493\n",
        "494\n",
        "495\n",
        "496\n",
        "497\n",
        "498\n",
        "499\n",
        "500\n",
        "501\n",
        "502\n",
        "503\n",
        "504\n",
        "505\n",
        "506\n",
        "507\n",
        "508\n",
        "509\n",
        "510\n",
        "511\n",
        "512\n",
        "513\n",
        "514\n",
        "515\n",
        "516\n",
        "517\n",
        "518\n",
        "519\n",
        "520\n",
        "521\n",
        "522\n",
        "523\n",
        "524\n",
        "525\n",
        "526\n",
        "527\n",
        "528\n",
        "529\n",
        "530\n",
        "531\n",
        "532\n",
        "533\n",
        "534\n",
        "535\n",
        "536\n",
        "537\n",
        "538\n",
        "539\n",
        "540\n",
        "541\n",
        "542\n",
        "543\n",
        "544\n",
        "545\n",
        "546\n",
        "547\n",
        "548\n",
        "549\n",
        "550\n",
        "551\n",
        "552\n",
        "553\n",
        "554\n",
        "555\n",
        "556\n",
        "557\n",
        "558\n",
        "559\n",
        "560\n",
        "561\n",
        "562\n",
        "563\n",
        "564\n",
        "565\n",
        "566\n",
        "567\n",
        "568\n",
        "569\n",
        "570\n",
        "571\n",
        "572\n",
        "573\n",
        "574\n",
        "575\n",
        "576\n",
        "577\n",
        "578\n",
        "579\n",
        "580\n",
        "581\n",
        "582\n",
        "583\n",
        "584\n",
        "585\n",
        "586\n",
        "587\n",
        "588\n",
        "589\n",
        "590\n",
        "591\n",
        "592\n",
        "593\n",
        "594\n",
        "595\n",
        "596\n",
        "597\n",
        "598\n",
        "599\n",
        "600\n",
        "601\n",
        "602\n",
        "603\n",
        "604\n",
        "605\n",
        "606\n",
        "607\n",
        "608\n",
        "609\n",
        "610\n",
        "611\n",
        "612\n",
        "613\n",
        "614\n",
        "615\n",
        "616\n",
        "617\n",
        "618\n",
        "619\n",
        "620\n",
        "621\n",
        "622\n",
        "623\n",
        "624\n",
        "625\n",
        "626\n",
        "627\n",
        "628\n",
        "629\n",
        "630\n",
        "631\n",
        "632\n",
        "633\n",
        "634\n",
        "635\n",
        "636\n",
        "637\n",
        "638\n",
        "639\n",
        "640\n",
        "641\n",
        "642\n",
        "643\n",
        "644\n",
        "645\n",
        "646\n",
        "647\n",
        "648\n",
        "649\n",
        "650\n",
        "651\n",
        "652\n",
        "653\n",
        "654\n",
        "655\n",
        "656\n",
        "657\n",
        "658\n",
        "659\n",
        "660\n",
        "661\n",
        "662\n",
        "663\n",
        "664\n",
        "665\n",
        "666\n",
        "667\n",
        "668\n",
        "669\n",
        "670\n",
        "671\n",
        "672\n",
        "673\n",
        "674\n",
        "675\n",
        "676\n",
        "677\n",
        "678\n",
        "679\n",
        "680\n",
        "681\n",
        "682\n",
        "683\n",
        "684\n",
        "685\n",
        "686\n",
        "687\n",
        "688\n",
        "689\n",
        "690\n",
        "691\n",
        "692\n",
        "693\n",
        "694\n",
        "695\n",
        "696\n",
        "697\n",
        "698\n",
        "699\n",
        "700\n",
        "701\n",
        "702\n",
        "703\n",
        "704\n",
        "705\n",
        "706\n",
        "707\n",
        "708\n",
        "709\n",
        "710\n",
        "711\n",
        "712\n",
        "713\n",
        "714\n",
        "715\n",
        "716\n",
        "717\n",
        "718\n",
        "719\n",
        "720\n",
        "721\n",
        "722\n",
        "723\n",
        "724\n",
        "725\n",
        "726\n",
        "727\n",
        "728\n",
        "729\n",
        "730\n",
        "731\n",
        "732\n",
        "733\n",
        "734\n",
        "735\n",
        "736\n",
        "737\n",
        "738\n",
        "739\n",
        "740\n",
        "741\n",
        "742\n",
        "743\n",
        "744\n",
        "745\n",
        "746\n",
        "747\n",
        "748\n",
        "749\n",
        "750\n",
        "751\n",
        "752\n",
        "753\n",
        "754\n",
        "755\n",
        "756\n",
        "757\n",
        "758\n",
        "759\n",
        "760\n",
        "761\n",
        "762\n",
        "763\n",
        "764\n",
        "765\n",
        "766\n",
        "767\n",
        "768\n",
        "769\n",
        "770\n",
        "771\n",
        "772\n",
        "773\n",
        "774\n",
        "775\n",
        "776\n",
        "777\n",
        "778\n",
        "779\n",
        "780\n",
        "781\n",
        "782\n",
        "783\n",
        "784\n",
        "785\n",
        "786\n",
        "787\n",
        "788\n",
        "789\n",
        "790\n",
        "791\n",
        "792\n",
        "793\n",
        "794\n",
        "795\n",
        "796\n",
        "797\n",
        "798\n",
        "799\n",
        "800\n",
        "801\n",
        "802\n",
        "803\n",
        "804\n",
        "805\n",
        "806\n",
        "807\n",
        "808\n",
        "809\n",
        "810\n",
        "811\n",
        "812\n",
        "813\n",
        "814\n",
        "815\n",
        "816\n",
        "817\n",
        "818\n",
        "819\n",
        "820\n",
        "821\n",
        "822\n",
        "823\n",
        "824\n",
        "825\n",
        "826\n",
        "827\n",
        "828\n",
        "829\n",
        "830\n",
        "831\n",
        "832\n",
        "833\n",
        "834\n",
        "835\n",
        "836\n",
        "837\n",
        "838\n",
        "839\n",
        "840\n",
        "841\n",
        "842\n",
        "843\n",
        "844\n",
        "845\n",
        "846\n",
        "847\n",
        "848\n",
        "849\n",
        "850\n",
        "851\n",
        "852\n",
        "853\n",
        "854\n",
        "855\n",
        "856\n",
        "857\n",
        "858\n",
        "859\n",
        "860\n",
        "861\n",
        "862\n",
        "863\n",
        "864\n",
        "865\n",
        "866\n",
        "867\n",
        "868\n",
        "869\n",
        "870\n",
        "871\n",
        "872\n",
        "873\n",
        "874\n",
        "875\n",
        "876\n",
        "877\n",
        "878\n",
        "879\n",
        "880\n",
        "881\n",
        "882\n",
        "883\n",
        "884\n",
        "885\n",
        "886\n",
        "887\n",
        "888\n",
        "889\n",
        "890\n",
        "891\n",
        "892\n",
        "893\n",
        "894\n",
        "895\n",
        "896\n",
        "897\n",
        "898\n",
        "899\n",
        "900\n",
        "901\n",
        "902\n",
        "903\n",
        "904\n",
        "905\n",
        "906\n",
        "907\n",
        "908\n",
        "909\n",
        "910\n",
        "911\n",
        "912\n",
        "913\n",
        "914\n",
        "915\n",
        "916\n",
        "917\n",
        "918\n",
        "919\n",
        "920\n",
        "921\n",
        "922\n",
        "923\n",
        "924\n",
        "925\n",
        "926\n",
        "927\n",
        "928\n",
        "929\n",
        "930\n",
        "931\n",
        "932\n",
        "933\n",
        "934\n",
        "935\n",
        "936\n",
        "937\n",
        "938\n",
        "939\n",
        "940\n",
        "941\n",
        "942\n",
        "943\n",
        "944\n",
        "945\n",
        "946\n",
        "947\n",
        "948\n",
        "949\n",
        "950\n",
        "951\n",
        "952\n",
        "953\n",
        "954\n",
        "955\n",
        "956\n",
        "957\n",
        "958\n",
        "959\n",
        "960\n",
        "961\n",
        "962\n",
        "963\n",
        "964\n",
        "965\n",
        "966\n",
        "967\n",
        "968\n",
        "969\n",
        "970\n",
        "971\n",
        "972\n",
        "973\n",
        "974\n",
        "975\n",
        "976\n",
        "977\n",
        "978\n",
        "979\n",
        "980\n",
        "981\n",
        "982\n",
        "983\n",
        "984\n",
        "985\n",
        "986\n",
        "987\n",
        "988\n",
        "989\n",
        "990\n",
        "991\n",
        "992\n",
        "993\n",
        "994\n",
        "995\n",
        "996\n",
        "997\n",
        "998\n",
        "999\n",
        "1000\n",
        "1001\n",
        "1002\n",
        "1003\n",
        "1004\n",
        "1005\n",
        "1006\n",
        "1007\n",
        "1008\n",
        "1009\n",
        "1010\n",
        "1011\n",
        "1012\n",
        "1013\n",
        "1014\n",
        "1015\n",
        "1016\n",
        "1017\n",
        "1018\n",
        "1019\n",
        "1020\n",
        "1021\n",
        "1022\n",
        "1023\n",
        "1024\n",
        "1025\n",
        "1026\n",
        "1027\n",
        "1028\n",
        "1029\n",
        "1030\n",
        "1031\n",
        "1032\n",
        "1033\n",
        "1034\n",
        "1035\n",
        "1036\n",
        "1037\n",
        "1038\n",
        "1039\n",
        "1040\n",
        "1041\n",
        "1042\n",
        "1043\n",
        "1044\n",
        "1045\n",
        "1046\n",
        "1047\n",
        "1048\n",
        "1049\n",
        "1050\n",
        "1051\n",
        "1052\n",
        "1053\n",
        "1054\n",
        "1055\n",
        "1056\n",
        "1057\n",
        "1058\n",
        "1059\n",
        "1060\n",
        "1061\n",
        "1062\n",
        "1063\n",
        "1064\n",
        "1065\n",
        "1066\n",
        "1067\n",
        "1068\n",
        "1069\n",
        "1070\n",
        "1071\n",
        "1072\n",
        "1073\n",
        "1074\n",
        "1075\n",
        "1076\n",
        "1077\n",
        "1078\n",
        "1079\n",
        "1080\n",
        "1081\n",
        "1082\n",
        "1083\n",
        "1084\n",
        "1085\n",
        "1086\n",
        "1087\n",
        "1088\n",
        "1089\n",
        "1090\n",
        "1091\n",
        "1092\n",
        "1093\n",
        "1094\n",
        "1095\n",
        "1096\n",
        "1097\n",
        "1098\n",
        "1099\n",
        "1100\n",
        "1101\n",
        "1102\n",
        "1103\n",
        "1104\n",
        "1105\n",
        "1106\n",
        "1107\n",
        "1108\n",
        "1109\n",
        "1110\n",
        "1111\n",
        "1112\n",
        "1113\n",
        "1114\n",
        "1115\n",
        "1116\n",
        "1117\n",
        "1118\n",
        "1119\n",
        "1120\n",
        "1121\n",
        "1122\n",
        "1123\n",
        "1124\n",
        "1125\n",
        "1126\n",
        "1127\n",
        "1128\n",
        "1129\n",
        "1130\n",
        "1131\n",
        "1132\n",
        "1133\n",
        "1134\n",
        "1135\n",
        "1136\n",
        "1137\n",
        "1138\n",
        "1139\n",
        "1140\n",
        "1141\n",
        "1142\n",
        "1143\n",
        "1144\n",
        "1145\n",
        "1146\n",
        "1147\n",
        "1148\n",
        "1149\n",
        "1150\n",
        "1151\n",
        "1152\n",
        "1153\n",
        "1154\n",
        "1155\n",
        "1156\n",
        "1157\n",
        "1158\n",
        "1159\n",
        "1160\n",
        "1161\n",
        "1162\n",
        "1163\n",
        "1164\n",
        "1165\n",
        "1166\n",
        "1167\n",
        "1168\n",
        "1169\n",
        "1170\n",
        "1171\n",
        "1172\n",
        "1173\n",
        "1174\n",
        "1175\n",
        "1176\n",
        "1177\n",
        "1178\n",
        "1179\n",
        "1180\n",
        "1181\n",
        "1182\n",
        "1183\n",
        "1184\n",
        "1185\n",
        "1186\n",
        "1187\n",
        "1188\n",
        "1189\n",
        "1190\n",
        "1191\n",
        "1192\n",
        "1193\n",
        "1194\n",
        "1195\n",
        "1196\n",
        "1197\n",
        "1198\n",
        "1199\n",
        "1200\n",
        "1201\n",
        "1202\n",
        "1203\n",
        "1204\n",
        "1205\n",
        "1206\n",
        "1207\n",
        "1208\n",
        "1209\n",
        "1210\n",
        "1211\n",
        "1212\n",
        "1213\n",
        "1214\n",
        "1215\n",
        "1216\n",
        "1217\n",
        "1218\n",
        "1219\n",
        "1220\n",
        "1221\n",
        "1222\n",
        "1223\n",
        "1224\n",
        "1225\n",
        "1226\n",
        "1227\n",
        "1228\n",
        "1229\n",
        "1230\n",
        "1231\n",
        "1232\n",
        "1233\n",
        "1234\n",
        "1235\n",
        "1236\n",
        "1237\n",
        "1238\n",
        "1239\n",
        "1240\n",
        "1241\n",
        "1242\n",
        "1243\n",
        "1244\n",
        "1245\n",
        "1246\n",
        "1247\n",
        "1248\n",
        "1249\n"
       ]
      }
     ],
     "prompt_number": 35
    },
    {
     "cell_type": "code",
     "collapsed": false,
     "input": [
      "for jj in range(2, 5):\n",
      "    print(jj)"
     ],
     "language": "python",
     "metadata": {},
     "outputs": [
      {
       "output_type": "stream",
       "stream": "stdout",
       "text": [
        "2\n",
        "3\n",
        "4\n"
       ]
      }
     ],
     "prompt_number": 36
    },
    {
     "cell_type": "code",
     "collapsed": false,
     "input": [
      "for jj in xrange(2, 5):\n",
      "    print(jj)"
     ],
     "language": "python",
     "metadata": {},
     "outputs": [
      {
       "output_type": "stream",
       "stream": "stdout",
       "text": [
        "2\n",
        "3\n",
        "4\n"
       ]
      }
     ],
     "prompt_number": 37
    },
    {
     "cell_type": "code",
     "collapsed": false,
     "input": [
      "%%timeit \n",
      "a = 1 \n",
      "for jj in range(2, 5): \n",
      "    a = a + jj"
     ],
     "language": "python",
     "metadata": {},
     "outputs": [
      {
       "output_type": "stream",
       "stream": "stdout",
       "text": [
        "1000000 loops, best of 3: 740 ns per loop\n"
       ]
      }
     ],
     "prompt_number": 38
    },
    {
     "cell_type": "code",
     "collapsed": false,
     "input": [
      "%%timeit \n",
      "a = 1 \n",
      "for jj in xrange(2, 5): \n",
      "    a = a + jj"
     ],
     "language": "python",
     "metadata": {},
     "outputs": [
      {
       "output_type": "stream",
       "stream": "stdout",
       "text": [
        "1000000 loops, best of 3: 514 ns per loop\n"
       ]
      }
     ],
     "prompt_number": 39
    },
    {
     "cell_type": "heading",
     "level": 2,
     "metadata": {},
     "source": [
      "Funciones"
     ]
    },
    {
     "cell_type": "markdown",
     "metadata": {},
     "source": [
      "Para definir nuestra propia funci\u00f3n utilizamos la sentencia `def` seguida del nombre de la misma y entre par\u00e9ntesis los argumentos de entrada.\n",
      "\n",
      "La primera l\u00ednea de la funci\u00f3n puede ser una cadena de documentaci\u00f3n.\n",
      "\n",
      "Los valores de retorno de la funci\u00f3n se especifican con la sentencia return."
     ]
    },
    {
     "cell_type": "code",
     "collapsed": false,
     "input": [
      "def funcion(x, y):\n",
      "    \"\"\"Funci\u00f3n de prueba.\"\"\"\n",
      "    return x + y"
     ],
     "language": "python",
     "metadata": {},
     "outputs": [],
     "prompt_number": 40
    },
    {
     "cell_type": "code",
     "collapsed": false,
     "input": [
      "type(funcion)"
     ],
     "language": "python",
     "metadata": {},
     "outputs": [
      {
       "metadata": {},
       "output_type": "pyout",
       "prompt_number": 41,
       "text": [
        "function"
       ]
      }
     ],
     "prompt_number": 41
    },
    {
     "cell_type": "code",
     "collapsed": false,
     "input": [
      "funcion?"
     ],
     "language": "python",
     "metadata": {},
     "outputs": [],
     "prompt_number": 42
    },
    {
     "cell_type": "code",
     "collapsed": false,
     "input": [
      "funcion??"
     ],
     "language": "python",
     "metadata": {},
     "outputs": [],
     "prompt_number": 43
    },
    {
     "cell_type": "markdown",
     "metadata": {},
     "source": [
      "Para invocar una funci\u00f3n, le paso los par\u00e1metros entre par\u00e9ntesis"
     ]
    },
    {
     "cell_type": "code",
     "collapsed": false,
     "input": [
      "funcion(1, 5)"
     ],
     "language": "python",
     "metadata": {},
     "outputs": [
      {
       "metadata": {},
       "output_type": "pyout",
       "prompt_number": 44,
       "text": [
        "6"
       ]
      }
     ],
     "prompt_number": 44
    },
    {
     "cell_type": "heading",
     "level": 3,
     "metadata": {},
     "source": [
      "Par\u00e1metros por default y par\u00e1metros por nombre"
     ]
    },
    {
     "cell_type": "code",
     "collapsed": false,
     "input": [
      "def multiplica(x, y=2.0):\n",
      "    \"\"\"Multiplica dos n\u00fameros, por defecto el primero por 2.\"\"\"\n",
      "    return x * y\n",
      "\n",
      "multiplica(4, 3)"
     ],
     "language": "python",
     "metadata": {},
     "outputs": [
      {
       "metadata": {},
       "output_type": "pyout",
       "prompt_number": 45,
       "text": [
        "12"
       ]
      }
     ],
     "prompt_number": 45
    },
    {
     "cell_type": "code",
     "collapsed": false,
     "input": [
      "multiplica(4)"
     ],
     "language": "python",
     "metadata": {},
     "outputs": [
      {
       "metadata": {},
       "output_type": "pyout",
       "prompt_number": 46,
       "text": [
        "8.0"
       ]
      }
     ],
     "prompt_number": 46
    },
    {
     "cell_type": "code",
     "collapsed": false,
     "input": [
      "def eleva(x=1, p=2, debug=False):\n",
      "    \"\"\"Eleva un n\u00famero x a la potencia p\"\"\"\n",
      "    if debug:\n",
      "        # Esto es un comentario\n",
      "        print(\"elevando el numero x = \" + str(x) + \" usando el exponente p = \" + str(p))\n",
      "    return x**p\n",
      "\n",
      "eleva(3, 5, True)"
     ],
     "language": "python",
     "metadata": {},
     "outputs": [
      {
       "output_type": "stream",
       "stream": "stdout",
       "text": [
        "elevando el numero x = 3 usando el exponente p = 5\n"
       ]
      },
      {
       "metadata": {},
       "output_type": "pyout",
       "prompt_number": 47,
       "text": [
        "243"
       ]
      }
     ],
     "prompt_number": 47
    },
    {
     "cell_type": "code",
     "collapsed": false,
     "input": [
      "eleva(debug=True, p=3, x=2)"
     ],
     "language": "python",
     "metadata": {},
     "outputs": [
      {
       "output_type": "stream",
       "stream": "stdout",
       "text": [
        "elevando el numero x = 2 usando el exponente p = 3\n"
       ]
      },
      {
       "metadata": {},
       "output_type": "pyout",
       "prompt_number": 48,
       "text": [
        "8"
       ]
      }
     ],
     "prompt_number": 48
    },
    {
     "cell_type": "code",
     "collapsed": false,
     "input": [
      "eleva()"
     ],
     "language": "python",
     "metadata": {},
     "outputs": [
      {
       "metadata": {},
       "output_type": "pyout",
       "prompt_number": 49,
       "text": [
        "1"
       ]
      }
     ],
     "prompt_number": 49
    },
    {
     "cell_type": "markdown",
     "metadata": {},
     "source": [
      "## M\u00f3dulos\n",
      "\n",
      "Uno de los conceptos m\u00e1s importantes en programaci\u00f3n es el de reusar c\u00f3digo para evitar repeticiones.\n",
      "\n",
      "La idea es escribir funciones y clases con un proposito y extensi\u00f3n bien definidos, y reusarlas en lugar de repetir c\u00f3digo similar en diferentes partes del programa (programaci\u00f3n modular). Usualmente el resultado es que se mejora ostensiblemente la facilidad de lectura y de mantenci\u00f3n de un programa. En la pr\u00e1ctica, esto significa que nuestro programa tendr\u00e1 menos errores, y ser\u00e1n m\u00e1s f\u00e1ciles de extender y corregir. \n",
      "\n",
      "Python permite programaci\u00f3n modular en diferentes niveles. Las funciones y las clases son ejemplos de herramientas para programaci\u00f3n modular de bajo nivel. Los m\u00f3dulos Python son construcciones de programaci\u00f3n modular de m\u00e1s alto nivel, donde podemos colectar variables relacionadas, funciones y clases. Un m\u00f3dulo Python es definido en un archivo Python (con extensi\u00f3n `.py`), y puede ser accequible a otros m\u00f3dulos Python y a programas usando el comendo `import`. \n",
      "\n",
      "Considere el siguiente ejemplo: el archivo `mimodulo.py` contiene una implementaci\u00f3n simple de una variable, una funci\u00f3n y una clase:"
     ]
    },
    {
     "cell_type": "code",
     "collapsed": false,
     "input": [
      "%more mimodulo.py"
     ],
     "language": "python",
     "metadata": {},
     "outputs": [],
     "prompt_number": 50
    },
    {
     "cell_type": "markdown",
     "metadata": {},
     "source": [
      "Para poder utilizar lo que definimos en nuestro m\u00f3dulo tenemos que importarlo"
     ]
    },
    {
     "cell_type": "code",
     "collapsed": false,
     "input": [
      "import mimodulo"
     ],
     "language": "python",
     "metadata": {},
     "outputs": [],
     "prompt_number": 51
    },
    {
     "cell_type": "code",
     "collapsed": false,
     "input": [
      "mimodulo.mi_function()"
     ],
     "language": "python",
     "metadata": {},
     "outputs": [
      {
       "metadata": {},
       "output_type": "pyout",
       "prompt_number": 52,
       "text": [
        "1"
       ]
      }
     ],
     "prompt_number": 52
    },
    {
     "cell_type": "code",
     "collapsed": false,
     "input": [
      "help(mimodulo)"
     ],
     "language": "python",
     "metadata": {},
     "outputs": [
      {
       "output_type": "stream",
       "stream": "stdout",
       "text": [
        "Help on module mimodulo:\n",
        "\n",
        "NAME\n",
        "    mimodulo\n",
        "\n",
        "FILE\n",
        "    /home/avendano/arsat/capacitacion/python_para_cientificos_final/mimodulo.py\n",
        "\n",
        "DESCRIPTION\n",
        "    Ejemplo de un m\u00f3dulo Python. Contiene una variable llamada mi_variable,\n",
        "    una funci\u00f3n llamada mi_function, y una clase llamada MiClase.\n",
        "\n",
        "CLASSES\n",
        "    MiClase\n",
        "    \n",
        "    class MiClase\n",
        "     |  Clase ejemplo.\n",
        "     |  \n",
        "     |  Methods defined here:\n",
        "     |  \n",
        "     |  __init__(self)\n",
        "     |  \n",
        "     |  get_variable(self)\n",
        "     |  \n",
        "     |  set_variable(self, nuevo_valor)\n",
        "     |      Asigna self.variable a un nuevo valor\n",
        "\n",
        "FUNCTIONS\n",
        "    mi_function()\n",
        "        Funci\u00f3n ejemplo\n",
        "\n",
        "DATA\n",
        "    mi_variable = 1\n",
        "\n",
        "\n"
       ]
      }
     ],
     "prompt_number": 53
    },
    {
     "cell_type": "heading",
     "level": 2,
     "metadata": {},
     "source": [
      "M\u00f3dulos de Python"
     ]
    },
    {
     "cell_type": "code",
     "collapsed": false,
     "input": [
      "import math"
     ],
     "language": "python",
     "metadata": {},
     "outputs": [],
     "prompt_number": 54
    },
    {
     "cell_type": "code",
     "collapsed": false,
     "input": [
      "help(math)"
     ],
     "language": "python",
     "metadata": {},
     "outputs": [
      {
       "output_type": "stream",
       "stream": "stdout",
       "text": [
        "Help on built-in module math:\n",
        "\n",
        "NAME\n",
        "    math\n",
        "\n",
        "FILE\n",
        "    (built-in)\n",
        "\n",
        "DESCRIPTION\n",
        "    This module is always available.  It provides access to the\n",
        "    mathematical functions defined by the C standard.\n",
        "\n",
        "FUNCTIONS\n",
        "    acos(...)\n",
        "        acos(x)\n",
        "        \n",
        "        Return the arc cosine (measured in radians) of x.\n",
        "    \n",
        "    acosh(...)\n",
        "        acosh(x)\n",
        "        \n",
        "        Return the hyperbolic arc cosine (measured in radians) of x.\n",
        "    \n",
        "    asin(...)\n",
        "        asin(x)\n",
        "        \n",
        "        Return the arc sine (measured in radians) of x.\n",
        "    \n",
        "    asinh(...)\n",
        "        asinh(x)\n",
        "        \n",
        "        Return the hyperbolic arc sine (measured in radians) of x.\n",
        "    \n",
        "    atan(...)\n",
        "        atan(x)\n",
        "        \n",
        "        Return the arc tangent (measured in radians) of x.\n",
        "    \n",
        "    atan2(...)\n",
        "        atan2(y, x)\n",
        "        \n",
        "        Return the arc tangent (measured in radians) of y/x.\n",
        "        Unlike atan(y/x), the signs of both x and y are considered.\n",
        "    \n",
        "    atanh(...)\n",
        "        atanh(x)\n",
        "        \n",
        "        Return the hyperbolic arc tangent (measured in radians) of x.\n",
        "    \n",
        "    ceil(...)\n",
        "        ceil(x)\n",
        "        \n",
        "        Return the ceiling of x as a float.\n",
        "        This is the smallest integral value >= x.\n",
        "    \n",
        "    copysign(...)\n",
        "        copysign(x, y)\n",
        "        \n",
        "        Return x with the sign of y.\n",
        "    \n",
        "    cos(...)\n",
        "        cos(x)\n",
        "        \n",
        "        Return the cosine of x (measured in radians).\n",
        "    \n",
        "    cosh(...)\n",
        "        cosh(x)\n",
        "        \n",
        "        Return the hyperbolic cosine of x.\n",
        "    \n",
        "    degrees(...)\n",
        "        degrees(x)\n",
        "        \n",
        "        Convert angle x from radians to degrees.\n",
        "    \n",
        "    erf(...)\n",
        "        erf(x)\n",
        "        \n",
        "        Error function at x.\n",
        "    \n",
        "    erfc(...)\n",
        "        erfc(x)\n",
        "        \n",
        "        Complementary error function at x.\n",
        "    \n",
        "    exp(...)\n",
        "        exp(x)\n",
        "        \n",
        "        Return e raised to the power of x.\n",
        "    \n",
        "    expm1(...)\n",
        "        expm1(x)\n",
        "        \n",
        "        Return exp(x)-1.\n",
        "        This function avoids the loss of precision involved in the direct evaluation of exp(x)-1 for small x.\n",
        "    \n",
        "    fabs(...)\n",
        "        fabs(x)\n",
        "        \n",
        "        Return the absolute value of the float x.\n",
        "    \n",
        "    factorial(...)\n",
        "        factorial(x) -> Integral\n",
        "        \n",
        "        Find x!. Raise a ValueError if x is negative or non-integral.\n",
        "    \n",
        "    floor(...)\n",
        "        floor(x)\n",
        "        \n",
        "        Return the floor of x as a float.\n",
        "        This is the largest integral value <= x.\n",
        "    \n",
        "    fmod(...)\n",
        "        fmod(x, y)\n",
        "        \n",
        "        Return fmod(x, y), according to platform C.  x % y may differ.\n",
        "    \n",
        "    frexp(...)\n",
        "        frexp(x)\n",
        "        \n",
        "        Return the mantissa and exponent of x, as pair (m, e).\n",
        "        m is a float and e is an int, such that x = m * 2.**e.\n",
        "        If x is 0, m and e are both 0.  Else 0.5 <= abs(m) < 1.0.\n",
        "    \n",
        "    fsum(...)\n",
        "        fsum(iterable)\n",
        "        \n",
        "        Return an accurate floating point sum of values in the iterable.\n",
        "        Assumes IEEE-754 floating point arithmetic.\n",
        "    \n",
        "    gamma(...)\n",
        "        gamma(x)\n",
        "        \n",
        "        Gamma function at x.\n",
        "    \n",
        "    hypot(...)\n",
        "        hypot(x, y)\n",
        "        \n",
        "        Return the Euclidean distance, sqrt(x*x + y*y).\n",
        "    \n",
        "    isinf(...)\n",
        "        isinf(x) -> bool\n",
        "        \n",
        "        Check if float x is infinite (positive or negative).\n",
        "    \n",
        "    isnan(...)\n",
        "        isnan(x) -> bool\n",
        "        \n",
        "        Check if float x is not a number (NaN).\n",
        "    \n",
        "    ldexp(...)\n",
        "        ldexp(x, i)\n",
        "        \n",
        "        Return x * (2**i).\n",
        "    \n",
        "    lgamma(...)\n",
        "        lgamma(x)\n",
        "        \n",
        "        Natural logarithm of absolute value of Gamma function at x.\n",
        "    \n",
        "    log(...)\n",
        "        log(x[, base])\n",
        "        \n",
        "        Return the logarithm of x to the given base.\n",
        "        If the base not specified, returns the natural logarithm (base e) of x.\n",
        "    \n",
        "    log10(...)\n",
        "        log10(x)\n",
        "        \n",
        "        Return the base 10 logarithm of x.\n",
        "    \n",
        "    log1p(...)\n",
        "        log1p(x)\n",
        "        \n",
        "        Return the natural logarithm of 1+x (base e).\n",
        "        The result is computed in a way which is accurate for x near zero.\n",
        "    \n",
        "    modf(...)\n",
        "        modf(x)\n",
        "        \n",
        "        Return the fractional and integer parts of x.  Both results carry the sign\n",
        "        of x and are floats.\n",
        "    \n",
        "    pow(...)\n",
        "        pow(x, y)\n",
        "        \n",
        "        Return x**y (x to the power of y).\n",
        "    \n",
        "    radians(...)\n",
        "        radians(x)\n",
        "        \n",
        "        Convert angle x from degrees to radians.\n",
        "    \n",
        "    sin(...)\n",
        "        sin(x)\n",
        "        \n",
        "        Return the sine of x (measured in radians).\n",
        "    \n",
        "    sinh(...)\n",
        "        sinh(x)\n",
        "        \n",
        "        Return the hyperbolic sine of x.\n",
        "    \n",
        "    sqrt(...)\n",
        "        sqrt(x)\n",
        "        \n",
        "        Return the square root of x.\n",
        "    \n",
        "    tan(...)\n",
        "        tan(x)\n",
        "        \n",
        "        Return the tangent of x (measured in radians).\n",
        "    \n",
        "    tanh(...)\n",
        "        tanh(x)\n",
        "        \n",
        "        Return the hyperbolic tangent of x.\n",
        "    \n",
        "    trunc(...)\n",
        "        trunc(x:Real) -> Integral\n",
        "        \n",
        "        Truncates x to the nearest Integral toward 0. Uses the __trunc__ magic method.\n",
        "\n",
        "DATA\n",
        "    e = 2.718281828459045\n",
        "    pi = 3.141592653589793\n",
        "\n",
        "\n"
       ]
      }
     ],
     "prompt_number": 55
    },
    {
     "cell_type": "code",
     "collapsed": false,
     "input": [
      "math?"
     ],
     "language": "python",
     "metadata": {},
     "outputs": [],
     "prompt_number": 56
    },
    {
     "cell_type": "code",
     "collapsed": false,
     "input": [
      "math.e"
     ],
     "language": "python",
     "metadata": {},
     "outputs": [
      {
       "metadata": {},
       "output_type": "pyout",
       "prompt_number": 57,
       "text": [
        "2.718281828459045"
       ]
      }
     ],
     "prompt_number": 57
    },
    {
     "cell_type": "code",
     "collapsed": false,
     "input": [
      "math.cos(math.pi)"
     ],
     "language": "python",
     "metadata": {},
     "outputs": [
      {
       "metadata": {},
       "output_type": "pyout",
       "prompt_number": 58,
       "text": [
        "-1.0"
       ]
      }
     ],
     "prompt_number": 58
    },
    {
     "cell_type": "code",
     "collapsed": false,
     "input": [
      "math.factorial(25)"
     ],
     "language": "python",
     "metadata": {},
     "outputs": [
      {
       "metadata": {},
       "output_type": "pyout",
       "prompt_number": 59,
       "text": [
        "15511210043330985984000000L"
       ]
      }
     ],
     "prompt_number": 59
    },
    {
     "cell_type": "code",
     "collapsed": false,
     "input": [
      "math.log(10)"
     ],
     "language": "python",
     "metadata": {},
     "outputs": [
      {
       "metadata": {},
       "output_type": "pyout",
       "prompt_number": 60,
       "text": [
        "2.302585092994046"
       ]
      }
     ],
     "prompt_number": 60
    },
    {
     "cell_type": "code",
     "collapsed": false,
     "input": [
      "math.sqrt(9)"
     ],
     "language": "python",
     "metadata": {},
     "outputs": [
      {
       "metadata": {},
       "output_type": "pyout",
       "prompt_number": 61,
       "text": [
        "3.0"
       ]
      }
     ],
     "prompt_number": 61
    },
    {
     "cell_type": "code",
     "collapsed": false,
     "input": [
      "math.sqrt(-1)"
     ],
     "language": "python",
     "metadata": {},
     "outputs": [
      {
       "ename": "ValueError",
       "evalue": "math domain error",
       "output_type": "pyerr",
       "traceback": [
        "\u001b[1;31m---------------------------------------------------------------------------\u001b[0m\n\u001b[1;31mValueError\u001b[0m                                Traceback (most recent call last)",
        "\u001b[1;32m<ipython-input-62-5234f21f3b4d>\u001b[0m in \u001b[0;36m<module>\u001b[1;34m()\u001b[0m\n\u001b[1;32m----> 1\u001b[1;33m \u001b[0mmath\u001b[0m\u001b[1;33m.\u001b[0m\u001b[0msqrt\u001b[0m\u001b[1;33m(\u001b[0m\u001b[1;33m-\u001b[0m\u001b[1;36m1\u001b[0m\u001b[1;33m)\u001b[0m\u001b[1;33m\u001b[0m\u001b[0m\n\u001b[0m",
        "\u001b[1;31mValueError\u001b[0m: math domain error"
       ]
      }
     ],
     "prompt_number": 62
    },
    {
     "cell_type": "heading",
     "level": 2,
     "metadata": {},
     "source": [
      "Links \u00fatiles"
     ]
    },
    {
     "cell_type": "markdown",
     "metadata": {},
     "source": [
      "- Tutorial de Python oficial (Traducido por PyAR): http://docs.python.org.ar/tutorial/pdfs/TutorialPython2.pdf\n",
      "- Librer\u00eda Est\u00e1ndar de Python: https://docs.python.org/2.7/library/\n",
      "- M\u00e1s m\u00f3dulos: https://pypi.python.org/pypi"
     ]
    }
   ],
   "metadata": {}
  }
 ]
}